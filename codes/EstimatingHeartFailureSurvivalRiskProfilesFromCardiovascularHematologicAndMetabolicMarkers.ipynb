{
 "cells": [
  {
   "cell_type": "markdown",
   "id": "8ca824fc-127b-435f-8c2b-0a0253ec17d1",
   "metadata": {},
   "source": [
    "***\n",
    "# Model Deployment : Estimating Heart Failure Survival Risk Profiles From Cardiovascular, Hematologic And Metabolic Markers"
   ]
  },
  {
   "cell_type": "markdown",
   "id": "1e87a39c-b8a3-429c-958c-fa629890307f",
   "metadata": {},
   "source": [
    "***\n",
    "### John Pauline Pineda <br> <br> *September 21, 2024*\n",
    "***"
   ]
  },
  {
   "cell_type": "markdown",
   "id": "6f28c3ed-eef4-47e2-ac59-ff98b1dd9505",
   "metadata": {},
   "source": [
    "* [**1. Table of Contents**](#TOC)\n",
    "    * [1.1 Data Background](#1.1)\n",
    "    * [1.2 Data Description](#1.2)\n",
    "    * [1.3 Data Quality Assessment](#1.3)\n",
    "    * [1.4 Data Preprocessing](#1.4)\n",
    "    * [1.5 Data Exploration](#1.5)\n",
    "        * [1.5.1 Exploratory Data Analysis](#1.5.1)\n",
    "        * [1.5.2 Hypothesis Testing](#1.5.2)\n",
    "    * [1.6 Predictive Model Development](#1.6)\n",
    "        * [1.6.1 Pre-Modelling Data Preparation](#1.6.1)\n",
    "        * [1.6.2 Data Splitting](#1.6.2)\n",
    "        * [1.6.3 Modelling Pipeline Development](#1.6.3)\n",
    "        * [1.6.4 Semi-Parametric Model Fitting | Hyperparameter Tuning | Validation](#1.6.4)\n",
    "        * [1.6.5 Parametric Model Fitting | Hyperparameter Tuning | Validation](#1.6.5)\n",
    "        * [1.6.6 Model Selection](#1.6.7)\n",
    "        * [1.6.7 Model Testing](#1.6.8)\n",
    "        * [1.6.8 Model Inference](#1.6.9)\n",
    "    * [1.7 Predictive Model Deployment Using Streamlit and Streamlit Community Cloud](#1.7)\n",
    "        * [1.7.1 Model Prediction Application Code Development](#1.7.1)\n",
    "        * [1.7.2 Model Application Programming Interface Code Development](#1.7.2)\n",
    "        * [1.7.3 User Interface Application Code Development](#1.7.3)\n",
    "        * [1.7.4 Web Application](#1.7.4)\n",
    "* [**2. Summary**](#Summary)   \n",
    "* [**3. References**](#References)\n",
    "\n",
    "***"
   ]
  },
  {
   "cell_type": "markdown",
   "id": "ac7a83df-a706-44a2-8d92-b2892610feca",
   "metadata": {},
   "source": [
    "# 1. Table of Contents <a class=\"anchor\" id=\"TOC\"></a>\n",
    "\n",
    "[Survival Analysis](https://link.springer.com/book/10.1007/978-1-4419-6646-9/) deals with the analysis of time-to-event data. It focuses on the expected duration of time until one or more events of interest occur, such as death, failure, or relapse. This type of analysis is used to study and model the time until the occurrence of an event, taking into account that the event might not have occurred for all subjects during the study period. Several key aspects of survival analysis include the survival function which refers to the probability that an individual survives longer than a certain time, hazard function which describes the instantaneous rate at which events occur, given no prior event, and censoring pertaining to a condition where the event of interest has not occurred for some subjects during the observation period.\n",
    "\n",
    "[Right-Censored Survival Data](https://link.springer.com/book/10.1007/978-1-4419-6646-9/) occurs when the event of interest has not happened for some subjects by the end of the study period or the last follow-up time. This type of censoring is common in survival analysis because not all individuals may experience the event before the study ends, or they might drop out or be lost to follow-up. Right-censored data is crucial in survival analysis as it allows the inclusion of all subjects in the analysis, providing more accurate and reliable estimates.\n",
    "\n",
    "[Survival Models](https://link.springer.com/book/10.1007/978-1-4419-6646-9/) refer to statistical methods used to analyze survival data, accounting for censored observations. These models aim to describe the relationship between survival time and one or more predictor variables, and to estimate the survival function and hazard function. Survival models are essential for understanding the factors that influence time-to-event data, allowing for predictions and comparisons between different groups or treatment effects. They are widely used in clinical trials, reliability engineering, and other areas where time-to-event data is prevalent.\n",
    "\n",
    "[Cox Proportional Hazards Regression Models](https://link.springer.com/book/10.1007/978-1-4419-6646-9/) relates the time until an event occurs (such as death or disease progression) to one or more predictor variables. The model is expressed through its hazard function, which represents the risk of the event happening at a particular time for an individual, given that the individual has survived up to that time. The mathematical equation is represented by the baseline hazard function (referring to the hazard for an individual when all of their covariates are zero, representing the inherent risk of the event happening over time, but is not directly estimated in the Cox model. Instead, the focus is on how the covariates influence the hazard relative to this baseline) and an exponential term that modifies the baseline hazard based on the individual's covariates (Each covariate is associated with a regression coefficient which measures the strength and direction of the effect of the covariate on the hazard. The exponential function ensures that the hazard is always positive, as hazard values can’t be negative). The proportional hazards assumption in this model means that the ratio of hazards between any two individuals is constant over time and is determined by the differences in their covariates. The Cox model doesn’t require a specific form for the baseline hazard, making it flexible, while properly accounting for censored data, which is common in survival studies.\n",
    "\n",
    "[Accelerated Failure Time Models](https://link.springer.com/book/10.1007/978-1-4419-6646-9/) are a class of survival analysis models used to analyze time-to-event data by directly modelling the survival time itself. An AFT model assumes that the effect of covariates accelerates or decelerates the life time of an event by some constant factor. The mathematical equation is represented by the logarithm of the survival time being equal to the sum of the vector of covariates multiplied to the vector of regression coefficients; and the product of the scale parameter and a random variable with a specified distribution. In an AFT model, the coefficients represent the multiplicative effect on the survival time. An exponentiated regression coefficient greater than one prolongs survival time, while a value less than one shortens it. The scale parameter determines the spread or variability of survival times. AFT models assume that the effect of covariates on survival time is multiplicative and that the survival times can be transformed to follow a specific distribution.\n",
    "\n",
    "[Regularization Methods](http://appliedpredictivemodeling.com/), in the context of binary classification using Logistic Regression, are primarily used to prevent overfitting and improve the model's generalization to new data. Overfitting occurs when a model is too complex and learns not only the underlying pattern in the data but also the noise. This leads to poor performance on unseen data. Regularization introduces a penalty for large coefficients in the model, which helps in controlling the model complexity. In Logistic Regression, this is done by adding a regularization term to the loss function, which penalizes large values of the coefficients. This forces the model to keep the coefficients small, thereby reducing the likelihood of overfitting. Addiitonally, by penalizing the complexity of the model through the regularization term, regularization methods also help the model generalize better to unseen data. This is because the model is less likely to overfit the training data and more likely to capture the true underlying pattern.\n",
    "\n",
    "[Shapley Additive Explanations](https://proceedings.neurips.cc/paper_files/paper/2017/file/8a20a8621978632d76c43dfd28b67767-Paper.pdf) are based on Shapley values developed in the cooperative game theory. The process involves explaining a prediction by assuming that each explanatory variable for an instance is a player in a game where the prediction is the payout. The game is the prediction task for a single instance of the data set. The gain is the actual prediction for this instance minus the average prediction for all instances. The players are the explanatory variable values of the instance that collaborate to receive the gain (predict a certain value). The determined value is the average marginal contribution of an explanatory variable across all possible coalitions.\n",
    "\n",
    "[FastAPI](https://fastapi.tiangolo.com/) is a modern, fast (high-performance) web framework for building APIs with Python. It’s designed to make it easy to create APIs quickly, while still providing strong validation and type hints that improve both code quality and performance. FastAPI allows building APIs by defining endpoints, which are essentially routes that handle HTTP requests. Routes are defined in Python functions, and FastAPI takes care of handling the request, validating input data, and generating responses. Significant features include high performance (FastAPI is one of the fastest Python frameworks, comparable to Node.js and Go, making it ideal for production use, especially in applications that require low latency, such as machine learning model inference), asynchronous support (FastAPI natively supports asynchronous programming, which is great for handling multiple requests concurrently, improving performance in scenarios with high traffic), data validation (FastAPI automatically validates the data coming into the API based on type annotations. If the user sends incorrect data (e.g., wrong data type), FastAPI generates informative error messages), and auto-generated documentation (FastAPI automatically generates API documentation in both Swagger UI and ReDoc formats. This makes testing and understanding the created API simple and fast for developers and stakeholders). In the context of machine learning model deployment, FastAPI acts as the backend API that handles requests for predictions. When a client or application (like a frontend UI) sends data to the API, FastAPI passes it to the model, retrieves the model’s prediction, and sends the result back to the client.\n",
    "\n",
    "[Streamlit](https://streamlit.io/) is an open-source Python library that simplifies the creation and deployment of web applications for machine learning and data science projects. It allows developers and data scientists to turn Python scripts into interactive web apps quickly without requiring extensive web development knowledge. Streamlit seamlessly integrates with popular Python libraries such as Pandas, Matplotlib, Plotly, and TensorFlow, allowing one to leverage existing data processing and visualization tools within the application. Streamlit apps can be easily deployed on various platforms, including Streamlit Community Cloud, Heroku, or any cloud service that supports Python web applications.\n",
    "\n",
    "[Streamlit Community Cloud](https://streamlit.io/cloud), formerly known as Streamlit Sharing, is a free cloud-based platform provided by Streamlit that allows users to easily deploy and share Streamlit apps online. It is particularly popular among data scientists, machine learning engineers, and developers for quickly showcasing projects, creating interactive demos, and sharing data-driven applications with a wider audience without needing to manage server infrastructure. Significant features include free hosting (Streamlit Community Cloud provides free hosting for Streamlit apps, making it accessible for users who want to share their work without incurring hosting costs), easy deployment (users can connect their GitHub repository to Streamlit Community Cloud, and the app is automatically deployed from the repository), continuous deployment (if the code in the connected GitHub repository is updated, the app is automatically redeployed with the latest changes), \n",
    "sharing capabilities (once deployed, apps can be shared with others via a simple URL, making it easy for collaborators, stakeholders, or the general public to access and interact with the app), built-in authentication (users can restrict access to their apps using GitHub-based authentication, allowing control over who can view and interact with the app), and community support (the platform is supported by a community of users and developers who share knowledge, templates, and best practices for building and deploying Streamlit apps)."
   ]
  },
  {
   "attachments": {},
   "cell_type": "markdown",
   "id": "f673dd1c-3a5d-451a-941c-127b6cc56565",
   "metadata": {},
   "source": [
    "## 1.1. Data Background <a class=\"anchor\" id=\"1.1\"></a>\n",
    "\n",
    "An open [Heart Failure Dataset](https://paperswithcode.com/dataset/survival-analysis-of-heart-failure-patients) from [Papers With Code](https://paperswithcode.com/) (with all credits attributed to [Saurav Mishra](https://paperswithcode.com/search?q=author%3ASaurav+Mishra)) was used for the analysis as consolidated from the following primary source: \n",
    "1. Research Paper entitled **A Comparative Study for Time-to-Event Analysis and Survival Prediction for Heart Failure Condition using Machine Learning Techniques** from the [Journal of Electronics, Electromedical Engineering, and Medical Informatics](http://jeeemi.org/index.php/jeeemi/article/view/225/94)\n",
    "2. Research Paper entitled **Machine Learning Can Predict Survival of Patients with Heart Failure from Serum Creatinine and Ejection Fraction Alone** from the [BMC Medical Informatics and Decision Making](https://bmcmedinformdecismak.biomedcentral.com/articles/10.1186/s12911-020-1023-5) Journal\n",
    "\n",
    "This study hypothesized that cardiovascular, hematologic, and metabolic markers influence heart failure survival risks between patients.\n",
    "\n",
    "The event status and survival duration variables for the study are:\n",
    "* <span style=\"color: #FF0000\">DEATH_EVENT</span> - Status of the patient within the follow-up period (0, censored | 1, death)\n",
    "* <span style=\"color: #FF0000\">TIME</span> - Follow-up period (Days)\n",
    "\n",
    "The predictor variables for the study are:\n",
    "* <span style=\"color: #FF0000\">AGE</span> - Patient's age (Years)\n",
    "* <span style=\"color: #FF0000\">ANAEMIA</span> - Hematologic marker for the indication of anaemia (decrease of red blood cells or hemoglobin level in the blood) (0, Absent | 1 Present)\n",
    "* <span style=\"color: #FF0000\">CREATININE_PHOSPHOKINASE</span> - Metabolic marker for the level of the CPK enzyme in the blood (mcg/L)\n",
    "* <span style=\"color: #FF0000\">DIABETES</span> - Metabolic marker for the indication of diabetes (0, Absent | 1 Present)\n",
    "* <span style=\"color: #FF0000\">EJECTION_FRACTION</span> - Cardiovascular marker for the ejection fraction (percentage of blood leaving the heart at each contraction) (%)\n",
    "* <span style=\"color: #FF0000\">HIGH_BLOOD_PRESSURE</span> - Cardiovascular marker for the indication of hypertension (0, Absent | 1 Present)\n",
    "* <span style=\"color: #FF0000\">PLATELETS</span> - Hematologic marker for the platelets in the blood (kiloplatelets/mL)\n",
    "* <span style=\"color: #FF0000\">SERUM_CREATININE</span> - Metabolic marker for the level of creatinine in the blood (mg/dL)\n",
    "* <span style=\"color: #FF0000\">SERUM_SODIUM</span> - Metabolic marker for the level of sodium in the blood (mEq/L)\n",
    "* <span style=\"color: #FF0000\">SEX</span> - Patient's sex (0, Female | 1, Male)\n",
    "* <span style=\"color: #FF0000\">SMOKING</span> - Cardiovascular marker for the indication of smoking (0, Absent | 1 Present)\n"
   ]
  },
  {
   "cell_type": "markdown",
   "id": "51551929-fe02-4d5b-9e6f-380bdfd1d746",
   "metadata": {},
   "source": [
    "## 1.2. Data Description <a class=\"anchor\" id=\"1.2\"></a>\n",
    "\n",
    "1. The dataset is comprised of:\n",
    "    * **299 rows** (observations)\n",
    "    * **13 columns** (variables)\n",
    "        * **2/13 event | duration** (object | numeric)\n",
    "             * <span style=\"color: #FF0000\">DEATH_EVENT</span>\n",
    "             * <span style=\"color: #FF0000\">TIME</span>\n",
    "        * **6/13 predictor** (numeric)\n",
    "             * <span style=\"color: #FF0000\">AGE</span>\n",
    "             * <span style=\"color: #FF0000\">CREATININE_PHOSPHOKINASE</span>\n",
    "             * <span style=\"color: #FF0000\">EJECTION_FRACTION</span>\n",
    "             * <span style=\"color: #FF0000\">PLATELETS</span>\n",
    "             * <span style=\"color: #FF0000\">SERUM_CREATININE</span>\n",
    "             * <span style=\"color: #FF0000\">SERUM_SODIUM</span>\n",
    "        * **5/13 predictor** (object)\n",
    "             * <span style=\"color: #FF0000\">ANAEMIA </span>\n",
    "             * <span style=\"color: #FF0000\">DIABETES</span>\n",
    "             * <span style=\"color: #FF0000\">HIGH_BLOOD_PRESSURE</span>\n",
    "             * <span style=\"color: #FF0000\">SEX</span>\n",
    "             * <span style=\"color: #FF0000\">SMOKING</span>"
   ]
  },
  {
   "cell_type": "code",
   "execution_count": 1,
   "id": "e012a458-4156-4eae-8f64-43a98ee469df",
   "metadata": {},
   "outputs": [],
   "source": [
    "##################################\n",
    "# Loading Python Libraries\n",
    "##################################\n",
    "import numpy as np\n",
    "import pandas as pd\n",
    "import seaborn as sns\n",
    "import matplotlib.pyplot as plt\n",
    "import os\n",
    "import itertools\n",
    "import joblib\n",
    "%matplotlib inline\n",
    "\n",
    "from operator import add,mul,truediv\n",
    "from sklearn.model_selection import train_test_split\n",
    "from sklearn.experimental import enable_iterative_imputer\n",
    "from sklearn.impute import IterativeImputer\n",
    "from sklearn.linear_model import LinearRegression\n",
    "from sklearn.preprocessing import PowerTransformer\n",
    "from sklearn.preprocessing import StandardScaler\n",
    "from sklearn.pipeline import Pipeline\n",
    "from sklearn.compose import ColumnTransformer\n",
    "from sklearn.model_selection import KFold\n",
    "from sklearn.inspection import permutation_importance\n",
    "\n",
    "from statsmodels.nonparametric.smoothers_lowess import lowess\n",
    "from scipy import stats\n",
    "from scipy.stats import ttest_ind, chi2_contingency\n",
    "from scipy.stats import pointbiserialr\n",
    "\n",
    "from lifelines import KaplanMeierFitter, CoxPHFitter\n",
    "from lifelines.utils import concordance_index\n",
    "from lifelines.statistics import logrank_test\n",
    "import shap\n",
    "\n",
    "import warnings\n",
    "warnings.filterwarnings('ignore')"
   ]
  },
  {
   "cell_type": "code",
   "execution_count": 2,
   "id": "f5150b5f-1655-4554-995e-be62a94186d6",
   "metadata": {},
   "outputs": [],
   "source": [
    "##################################\n",
    "# Defining file paths\n",
    "##################################\n",
    "DATASETS_ORIGINAL_PATH = r\"datasets\\original\"\n",
    "DATASETS_PREPROCESSED_PATH = r\"datasets\\preprocessed\"\n",
    "DATASETS_FINAL_PATH = r\"datasets\\final\\complete\"\n",
    "DATASETS_FINAL_TRAIN_PATH = r\"datasets\\final\\train\"\n",
    "DATASETS_FINAL_TRAIN_FEATURES_PATH = r\"datasets\\final\\train\\features\"\n",
    "DATASETS_FINAL_TRAIN_TARGET_PATH = r\"datasets\\final\\train\\target\"\n",
    "DATASETS_FINAL_VALIDATION_PATH = r\"datasets\\final\\validation\"\n",
    "DATASETS_FINAL_VALIDATION_FEATURES_PATH = r\"datasets\\final\\validation\\features\"\n",
    "DATASETS_FINAL_VALIDATION_TARGET_PATH = r\"datasets\\final\\validation\\target\"\n",
    "DATASETS_FINAL_TEST_PATH = r\"datasets\\final\\test\"\n",
    "DATASETS_FINAL_TEST_FEATURES_PATH = r\"datasets\\final\\test\\features\"\n",
    "DATASETS_FINAL_TEST_TARGET_PATH = r\"datasets\\final\\test\\target\"\n",
    "MODELS_PATH = r\"models\""
   ]
  },
  {
   "cell_type": "code",
   "execution_count": 3,
   "id": "7dc20d76-0fa1-4853-9f65-770aefdda888",
   "metadata": {},
   "outputs": [],
   "source": [
    "##################################\n",
    "# Loading the dataset\n",
    "# from the DATASETS_ORIGINAL_PATH\n",
    "##################################\n",
    "heart_failure = pd.read_csv(os.path.join(\"..\", DATASETS_ORIGINAL_PATH, \"heart_failure_clinical_records_dataset.csv\"))"
   ]
  },
  {
   "cell_type": "code",
   "execution_count": 4,
   "id": "a9150bb0-7882-4d8b-b774-cff94d1cd3b6",
   "metadata": {},
   "outputs": [
    {
     "name": "stdout",
     "output_type": "stream",
     "text": [
      "Dataset Dimensions: \n"
     ]
    },
    {
     "data": {
      "text/plain": [
       "(299, 13)"
      ]
     },
     "metadata": {},
     "output_type": "display_data"
    }
   ],
   "source": [
    "##################################\n",
    "# Performing a general exploration of the dataset\n",
    "##################################\n",
    "print('Dataset Dimensions: ')\n",
    "display(heart_failure.shape)"
   ]
  },
  {
   "cell_type": "code",
   "execution_count": 5,
   "id": "e9220352-f9d8-4740-83c9-b25ec311645b",
   "metadata": {},
   "outputs": [
    {
     "name": "stdout",
     "output_type": "stream",
     "text": [
      "Column Names: \n"
     ]
    },
    {
     "data": {
      "text/plain": [
       "Index(['age', 'anaemia', 'creatinine_phosphokinase', 'diabetes',\n",
       "       'ejection_fraction', 'high_blood_pressure', 'platelets',\n",
       "       'serum_creatinine', 'serum_sodium', 'sex', 'smoking', 'time',\n",
       "       'DEATH_EVENT'],\n",
       "      dtype='object')"
      ]
     },
     "metadata": {},
     "output_type": "display_data"
    }
   ],
   "source": [
    "##################################\n",
    "# Verifying the column names\n",
    "##################################\n",
    "print('Column Names: ')\n",
    "display(heart_failure.columns)"
   ]
  },
  {
   "cell_type": "code",
   "execution_count": 6,
   "id": "40a1ebb5-2ab6-4884-b0c2-f1e89433fb8f",
   "metadata": {},
   "outputs": [],
   "source": [
    "##################################\n",
    "# Removing trailing white spaces\n",
    "# in column names\n",
    "##################################\n",
    "heart_failure.columns = [x.strip() for x in heart_failure.columns]"
   ]
  },
  {
   "cell_type": "code",
   "execution_count": 7,
   "id": "88bc79aa-edf3-4ed3-85a5-c0e8f2787f2b",
   "metadata": {},
   "outputs": [],
   "source": [
    "##################################\n",
    "# Standardizing the column names\n",
    "##################################\n",
    "heart_failure.columns = ['AGE', \n",
    "                         'ANAEMIA', \n",
    "                         'CREATININE_PHOSPHOKINASE', \n",
    "                         'DIABETES', \n",
    "                         'EJECTION_FRACTION',\n",
    "                         'HIGH_BLOOD_PRESSURE', \n",
    "                         'PLATELETS', \n",
    "                         'SERUM_CREATININE', \n",
    "                         'SERUM_SODIUM', \n",
    "                         'SEX',\n",
    "                         'SMOKING', \n",
    "                         'TIME', \n",
    "                         'DEATH_EVENT']"
   ]
  },
  {
   "cell_type": "code",
   "execution_count": 8,
   "id": "8887bf47-9094-44b6-92a6-a13d16efef92",
   "metadata": {},
   "outputs": [
    {
     "name": "stdout",
     "output_type": "stream",
     "text": [
      "Column Names: \n"
     ]
    },
    {
     "data": {
      "text/plain": [
       "Index(['AGE', 'ANAEMIA', 'CREATININE_PHOSPHOKINASE', 'DIABETES',\n",
       "       'EJECTION_FRACTION', 'HIGH_BLOOD_PRESSURE', 'PLATELETS',\n",
       "       'SERUM_CREATININE', 'SERUM_SODIUM', 'SEX', 'SMOKING', 'TIME',\n",
       "       'DEATH_EVENT'],\n",
       "      dtype='object')"
      ]
     },
     "metadata": {},
     "output_type": "display_data"
    }
   ],
   "source": [
    "##################################\n",
    "# Verifying the corrected column names\n",
    "##################################\n",
    "print('Column Names: ')\n",
    "display(heart_failure.columns)"
   ]
  },
  {
   "cell_type": "code",
   "execution_count": 9,
   "id": "e195c602-25f4-4ce5-b755-bea2c1aa1697",
   "metadata": {},
   "outputs": [
    {
     "name": "stdout",
     "output_type": "stream",
     "text": [
      "Column Names and Data Types:\n"
     ]
    },
    {
     "data": {
      "text/plain": [
       "AGE                         float64\n",
       "ANAEMIA                       int64\n",
       "CREATININE_PHOSPHOKINASE      int64\n",
       "DIABETES                      int64\n",
       "EJECTION_FRACTION             int64\n",
       "HIGH_BLOOD_PRESSURE           int64\n",
       "PLATELETS                   float64\n",
       "SERUM_CREATININE            float64\n",
       "SERUM_SODIUM                  int64\n",
       "SEX                           int64\n",
       "SMOKING                       int64\n",
       "TIME                          int64\n",
       "DEATH_EVENT                   int64\n",
       "dtype: object"
      ]
     },
     "metadata": {},
     "output_type": "display_data"
    }
   ],
   "source": [
    "##################################\n",
    "# Listing the column names and data types\n",
    "##################################\n",
    "print('Column Names and Data Types:')\n",
    "display(heart_failure.dtypes)"
   ]
  },
  {
   "cell_type": "code",
   "execution_count": 10,
   "id": "fc7069c8-4b6f-41c5-9336-646840aca552",
   "metadata": {},
   "outputs": [
    {
     "data": {
      "text/html": [
       "<div>\n",
       "<style scoped>\n",
       "    .dataframe tbody tr th:only-of-type {\n",
       "        vertical-align: middle;\n",
       "    }\n",
       "\n",
       "    .dataframe tbody tr th {\n",
       "        vertical-align: top;\n",
       "    }\n",
       "\n",
       "    .dataframe thead th {\n",
       "        text-align: right;\n",
       "    }\n",
       "</style>\n",
       "<table border=\"1\" class=\"dataframe\">\n",
       "  <thead>\n",
       "    <tr style=\"text-align: right;\">\n",
       "      <th></th>\n",
       "      <th>AGE</th>\n",
       "      <th>ANAEMIA</th>\n",
       "      <th>CREATININE_PHOSPHOKINASE</th>\n",
       "      <th>DIABETES</th>\n",
       "      <th>EJECTION_FRACTION</th>\n",
       "      <th>HIGH_BLOOD_PRESSURE</th>\n",
       "      <th>PLATELETS</th>\n",
       "      <th>SERUM_CREATININE</th>\n",
       "      <th>SERUM_SODIUM</th>\n",
       "      <th>SEX</th>\n",
       "      <th>SMOKING</th>\n",
       "      <th>TIME</th>\n",
       "      <th>DEATH_EVENT</th>\n",
       "    </tr>\n",
       "  </thead>\n",
       "  <tbody>\n",
       "    <tr>\n",
       "      <th>0</th>\n",
       "      <td>75.0</td>\n",
       "      <td>0</td>\n",
       "      <td>582</td>\n",
       "      <td>0</td>\n",
       "      <td>20</td>\n",
       "      <td>1</td>\n",
       "      <td>265000.00</td>\n",
       "      <td>1.9</td>\n",
       "      <td>130</td>\n",
       "      <td>1</td>\n",
       "      <td>0</td>\n",
       "      <td>4</td>\n",
       "      <td>1</td>\n",
       "    </tr>\n",
       "    <tr>\n",
       "      <th>1</th>\n",
       "      <td>55.0</td>\n",
       "      <td>0</td>\n",
       "      <td>7861</td>\n",
       "      <td>0</td>\n",
       "      <td>38</td>\n",
       "      <td>0</td>\n",
       "      <td>263358.03</td>\n",
       "      <td>1.1</td>\n",
       "      <td>136</td>\n",
       "      <td>1</td>\n",
       "      <td>0</td>\n",
       "      <td>6</td>\n",
       "      <td>1</td>\n",
       "    </tr>\n",
       "    <tr>\n",
       "      <th>2</th>\n",
       "      <td>65.0</td>\n",
       "      <td>0</td>\n",
       "      <td>146</td>\n",
       "      <td>0</td>\n",
       "      <td>20</td>\n",
       "      <td>0</td>\n",
       "      <td>162000.00</td>\n",
       "      <td>1.3</td>\n",
       "      <td>129</td>\n",
       "      <td>1</td>\n",
       "      <td>1</td>\n",
       "      <td>7</td>\n",
       "      <td>1</td>\n",
       "    </tr>\n",
       "    <tr>\n",
       "      <th>3</th>\n",
       "      <td>50.0</td>\n",
       "      <td>1</td>\n",
       "      <td>111</td>\n",
       "      <td>0</td>\n",
       "      <td>20</td>\n",
       "      <td>0</td>\n",
       "      <td>210000.00</td>\n",
       "      <td>1.9</td>\n",
       "      <td>137</td>\n",
       "      <td>1</td>\n",
       "      <td>0</td>\n",
       "      <td>7</td>\n",
       "      <td>1</td>\n",
       "    </tr>\n",
       "    <tr>\n",
       "      <th>4</th>\n",
       "      <td>65.0</td>\n",
       "      <td>1</td>\n",
       "      <td>160</td>\n",
       "      <td>1</td>\n",
       "      <td>20</td>\n",
       "      <td>0</td>\n",
       "      <td>327000.00</td>\n",
       "      <td>2.7</td>\n",
       "      <td>116</td>\n",
       "      <td>0</td>\n",
       "      <td>0</td>\n",
       "      <td>8</td>\n",
       "      <td>1</td>\n",
       "    </tr>\n",
       "  </tbody>\n",
       "</table>\n",
       "</div>"
      ],
      "text/plain": [
       "    AGE  ANAEMIA  CREATININE_PHOSPHOKINASE  DIABETES  EJECTION_FRACTION  \\\n",
       "0  75.0        0                       582         0                 20   \n",
       "1  55.0        0                      7861         0                 38   \n",
       "2  65.0        0                       146         0                 20   \n",
       "3  50.0        1                       111         0                 20   \n",
       "4  65.0        1                       160         1                 20   \n",
       "\n",
       "   HIGH_BLOOD_PRESSURE  PLATELETS  SERUM_CREATININE  SERUM_SODIUM  SEX  \\\n",
       "0                    1  265000.00               1.9           130    1   \n",
       "1                    0  263358.03               1.1           136    1   \n",
       "2                    0  162000.00               1.3           129    1   \n",
       "3                    0  210000.00               1.9           137    1   \n",
       "4                    0  327000.00               2.7           116    0   \n",
       "\n",
       "   SMOKING  TIME  DEATH_EVENT  \n",
       "0        0     4            1  \n",
       "1        0     6            1  \n",
       "2        1     7            1  \n",
       "3        0     7            1  \n",
       "4        0     8            1  "
      ]
     },
     "execution_count": 10,
     "metadata": {},
     "output_type": "execute_result"
    }
   ],
   "source": [
    "##################################\n",
    "# Taking a snapshot of the dataset\n",
    "##################################\n",
    "heart_failure.head()"
   ]
  },
  {
   "cell_type": "code",
   "execution_count": 11,
   "id": "6b6fc7f7-8c65-4968-8548-03dab4f74fa7",
   "metadata": {},
   "outputs": [],
   "source": [
    "##################################\n",
    "# Setting certain integer variables\n",
    "# to float values\n",
    "##################################\n",
    "float_columns = ['AGE',\n",
    "                 'CREATININE_PHOSPHOKINASE',\n",
    "                 'EJECTION_FRACTION',\n",
    "                 'PLATELETS',\n",
    "                 'SERUM_CREATININE',\n",
    "                 'SERUM_SODIUM',\n",
    "                 'TIME']\n",
    "heart_failure[float_columns] = heart_failure[float_columns].astype(float)"
   ]
  },
  {
   "cell_type": "code",
   "execution_count": 12,
   "id": "b382b033-fb32-4175-b461-ad3b8b32ec82",
   "metadata": {},
   "outputs": [],
   "source": [
    "##################################\n",
    "# Setting certain integer variables\n",
    "# to object or categorical values\n",
    "##################################\n",
    "int_columns = ['ANAEMIA',\n",
    "               'DIABETES', \n",
    "               'HIGH_BLOOD_PRESSURE',\n",
    "               'SMOKING',\n",
    "               'SEX']\n",
    "heart_failure[int_columns] = heart_failure[int_columns].astype(object)\n",
    "heart_failure['DEATH_EVENT'] = heart_failure['DEATH_EVENT'].astype('category')"
   ]
  },
  {
   "cell_type": "code",
   "execution_count": 13,
   "id": "dfbdcae1-28ce-4294-86a0-e12a422a7a43",
   "metadata": {},
   "outputs": [],
   "source": [
    "##################################\n",
    "# Saving a copy of the original dataset\n",
    "##################################\n",
    "heart_failure_original = heart_failure.copy()"
   ]
  },
  {
   "cell_type": "code",
   "execution_count": 14,
   "id": "516fe63c-2b3e-4cbd-a3be-c9e7394b5e0e",
   "metadata": {},
   "outputs": [],
   "source": [
    "##################################\n",
    "# Setting the levels of the dichotomous categorical variables\n",
    "# to boolean values\n",
    "##################################\n",
    "heart_failure['DEATH_EVENT'] = heart_failure['DEATH_EVENT'].cat.set_categories([0, 1], ordered=True)\n",
    "heart_failure['SEX'] = heart_failure['SEX'].replace({0: 'Female', 1: 'Male'})\n",
    "heart_failure[int_columns] = heart_failure[int_columns].replace({0: 'Absent', 1: 'Present'})"
   ]
  },
  {
   "cell_type": "code",
   "execution_count": 15,
   "id": "7d4b0093-5441-4518-8e40-cd7eb89eb547",
   "metadata": {},
   "outputs": [
    {
     "name": "stdout",
     "output_type": "stream",
     "text": [
      "Column Names and Data Types:\n"
     ]
    },
    {
     "data": {
      "text/plain": [
       "AGE                          float64\n",
       "ANAEMIA                       object\n",
       "CREATININE_PHOSPHOKINASE     float64\n",
       "DIABETES                      object\n",
       "EJECTION_FRACTION            float64\n",
       "HIGH_BLOOD_PRESSURE           object\n",
       "PLATELETS                    float64\n",
       "SERUM_CREATININE             float64\n",
       "SERUM_SODIUM                 float64\n",
       "SEX                           object\n",
       "SMOKING                       object\n",
       "TIME                         float64\n",
       "DEATH_EVENT                 category\n",
       "dtype: object"
      ]
     },
     "metadata": {},
     "output_type": "display_data"
    }
   ],
   "source": [
    "##################################\n",
    "# Listing the column names and data types\n",
    "##################################\n",
    "print('Column Names and Data Types:')\n",
    "display(heart_failure.dtypes)"
   ]
  },
  {
   "cell_type": "code",
   "execution_count": 16,
   "id": "fbbe50c1-61e6-4a5d-b356-9cd1c2fbd24d",
   "metadata": {},
   "outputs": [
    {
     "data": {
      "text/html": [
       "<div>\n",
       "<style scoped>\n",
       "    .dataframe tbody tr th:only-of-type {\n",
       "        vertical-align: middle;\n",
       "    }\n",
       "\n",
       "    .dataframe tbody tr th {\n",
       "        vertical-align: top;\n",
       "    }\n",
       "\n",
       "    .dataframe thead th {\n",
       "        text-align: right;\n",
       "    }\n",
       "</style>\n",
       "<table border=\"1\" class=\"dataframe\">\n",
       "  <thead>\n",
       "    <tr style=\"text-align: right;\">\n",
       "      <th></th>\n",
       "      <th>AGE</th>\n",
       "      <th>ANAEMIA</th>\n",
       "      <th>CREATININE_PHOSPHOKINASE</th>\n",
       "      <th>DIABETES</th>\n",
       "      <th>EJECTION_FRACTION</th>\n",
       "      <th>HIGH_BLOOD_PRESSURE</th>\n",
       "      <th>PLATELETS</th>\n",
       "      <th>SERUM_CREATININE</th>\n",
       "      <th>SERUM_SODIUM</th>\n",
       "      <th>SEX</th>\n",
       "      <th>SMOKING</th>\n",
       "      <th>TIME</th>\n",
       "      <th>DEATH_EVENT</th>\n",
       "    </tr>\n",
       "  </thead>\n",
       "  <tbody>\n",
       "    <tr>\n",
       "      <th>0</th>\n",
       "      <td>75.0</td>\n",
       "      <td>Absent</td>\n",
       "      <td>582.0</td>\n",
       "      <td>Absent</td>\n",
       "      <td>20.0</td>\n",
       "      <td>Present</td>\n",
       "      <td>265000.00</td>\n",
       "      <td>1.9</td>\n",
       "      <td>130.0</td>\n",
       "      <td>Male</td>\n",
       "      <td>Absent</td>\n",
       "      <td>4.0</td>\n",
       "      <td>1</td>\n",
       "    </tr>\n",
       "    <tr>\n",
       "      <th>1</th>\n",
       "      <td>55.0</td>\n",
       "      <td>Absent</td>\n",
       "      <td>7861.0</td>\n",
       "      <td>Absent</td>\n",
       "      <td>38.0</td>\n",
       "      <td>Absent</td>\n",
       "      <td>263358.03</td>\n",
       "      <td>1.1</td>\n",
       "      <td>136.0</td>\n",
       "      <td>Male</td>\n",
       "      <td>Absent</td>\n",
       "      <td>6.0</td>\n",
       "      <td>1</td>\n",
       "    </tr>\n",
       "    <tr>\n",
       "      <th>2</th>\n",
       "      <td>65.0</td>\n",
       "      <td>Absent</td>\n",
       "      <td>146.0</td>\n",
       "      <td>Absent</td>\n",
       "      <td>20.0</td>\n",
       "      <td>Absent</td>\n",
       "      <td>162000.00</td>\n",
       "      <td>1.3</td>\n",
       "      <td>129.0</td>\n",
       "      <td>Male</td>\n",
       "      <td>Present</td>\n",
       "      <td>7.0</td>\n",
       "      <td>1</td>\n",
       "    </tr>\n",
       "    <tr>\n",
       "      <th>3</th>\n",
       "      <td>50.0</td>\n",
       "      <td>Present</td>\n",
       "      <td>111.0</td>\n",
       "      <td>Absent</td>\n",
       "      <td>20.0</td>\n",
       "      <td>Absent</td>\n",
       "      <td>210000.00</td>\n",
       "      <td>1.9</td>\n",
       "      <td>137.0</td>\n",
       "      <td>Male</td>\n",
       "      <td>Absent</td>\n",
       "      <td>7.0</td>\n",
       "      <td>1</td>\n",
       "    </tr>\n",
       "    <tr>\n",
       "      <th>4</th>\n",
       "      <td>65.0</td>\n",
       "      <td>Present</td>\n",
       "      <td>160.0</td>\n",
       "      <td>Present</td>\n",
       "      <td>20.0</td>\n",
       "      <td>Absent</td>\n",
       "      <td>327000.00</td>\n",
       "      <td>2.7</td>\n",
       "      <td>116.0</td>\n",
       "      <td>Female</td>\n",
       "      <td>Absent</td>\n",
       "      <td>8.0</td>\n",
       "      <td>1</td>\n",
       "    </tr>\n",
       "  </tbody>\n",
       "</table>\n",
       "</div>"
      ],
      "text/plain": [
       "    AGE  ANAEMIA  CREATININE_PHOSPHOKINASE DIABETES  EJECTION_FRACTION  \\\n",
       "0  75.0   Absent                     582.0   Absent               20.0   \n",
       "1  55.0   Absent                    7861.0   Absent               38.0   \n",
       "2  65.0   Absent                     146.0   Absent               20.0   \n",
       "3  50.0  Present                     111.0   Absent               20.0   \n",
       "4  65.0  Present                     160.0  Present               20.0   \n",
       "\n",
       "  HIGH_BLOOD_PRESSURE  PLATELETS  SERUM_CREATININE  SERUM_SODIUM     SEX  \\\n",
       "0             Present  265000.00               1.9         130.0    Male   \n",
       "1              Absent  263358.03               1.1         136.0    Male   \n",
       "2              Absent  162000.00               1.3         129.0    Male   \n",
       "3              Absent  210000.00               1.9         137.0    Male   \n",
       "4              Absent  327000.00               2.7         116.0  Female   \n",
       "\n",
       "   SMOKING  TIME DEATH_EVENT  \n",
       "0   Absent   4.0           1  \n",
       "1   Absent   6.0           1  \n",
       "2  Present   7.0           1  \n",
       "3   Absent   7.0           1  \n",
       "4   Absent   8.0           1  "
      ]
     },
     "execution_count": 16,
     "metadata": {},
     "output_type": "execute_result"
    }
   ],
   "source": [
    "##################################\n",
    "# Taking a snapshot of the dataset\n",
    "##################################\n",
    "heart_failure.head()"
   ]
  },
  {
   "cell_type": "code",
   "execution_count": 17,
   "id": "b7e7480d-6ca6-4e94-87fe-21d47210c52b",
   "metadata": {},
   "outputs": [
    {
     "name": "stdout",
     "output_type": "stream",
     "text": [
      "Numeric Variable Summary:\n"
     ]
    },
    {
     "data": {
      "text/html": [
       "<div>\n",
       "<style scoped>\n",
       "    .dataframe tbody tr th:only-of-type {\n",
       "        vertical-align: middle;\n",
       "    }\n",
       "\n",
       "    .dataframe tbody tr th {\n",
       "        vertical-align: top;\n",
       "    }\n",
       "\n",
       "    .dataframe thead th {\n",
       "        text-align: right;\n",
       "    }\n",
       "</style>\n",
       "<table border=\"1\" class=\"dataframe\">\n",
       "  <thead>\n",
       "    <tr style=\"text-align: right;\">\n",
       "      <th></th>\n",
       "      <th>count</th>\n",
       "      <th>mean</th>\n",
       "      <th>std</th>\n",
       "      <th>min</th>\n",
       "      <th>25%</th>\n",
       "      <th>50%</th>\n",
       "      <th>75%</th>\n",
       "      <th>max</th>\n",
       "    </tr>\n",
       "  </thead>\n",
       "  <tbody>\n",
       "    <tr>\n",
       "      <th>AGE</th>\n",
       "      <td>299.0</td>\n",
       "      <td>60.833893</td>\n",
       "      <td>11.894809</td>\n",
       "      <td>40.0</td>\n",
       "      <td>51.0</td>\n",
       "      <td>60.0</td>\n",
       "      <td>70.0</td>\n",
       "      <td>95.0</td>\n",
       "    </tr>\n",
       "    <tr>\n",
       "      <th>CREATININE_PHOSPHOKINASE</th>\n",
       "      <td>299.0</td>\n",
       "      <td>581.839465</td>\n",
       "      <td>970.287881</td>\n",
       "      <td>23.0</td>\n",
       "      <td>116.5</td>\n",
       "      <td>250.0</td>\n",
       "      <td>582.0</td>\n",
       "      <td>7861.0</td>\n",
       "    </tr>\n",
       "    <tr>\n",
       "      <th>EJECTION_FRACTION</th>\n",
       "      <td>299.0</td>\n",
       "      <td>38.083612</td>\n",
       "      <td>11.834841</td>\n",
       "      <td>14.0</td>\n",
       "      <td>30.0</td>\n",
       "      <td>38.0</td>\n",
       "      <td>45.0</td>\n",
       "      <td>80.0</td>\n",
       "    </tr>\n",
       "    <tr>\n",
       "      <th>PLATELETS</th>\n",
       "      <td>299.0</td>\n",
       "      <td>263358.029264</td>\n",
       "      <td>97804.236869</td>\n",
       "      <td>25100.0</td>\n",
       "      <td>212500.0</td>\n",
       "      <td>262000.0</td>\n",
       "      <td>303500.0</td>\n",
       "      <td>850000.0</td>\n",
       "    </tr>\n",
       "    <tr>\n",
       "      <th>SERUM_CREATININE</th>\n",
       "      <td>299.0</td>\n",
       "      <td>1.393880</td>\n",
       "      <td>1.034510</td>\n",
       "      <td>0.5</td>\n",
       "      <td>0.9</td>\n",
       "      <td>1.1</td>\n",
       "      <td>1.4</td>\n",
       "      <td>9.4</td>\n",
       "    </tr>\n",
       "    <tr>\n",
       "      <th>SERUM_SODIUM</th>\n",
       "      <td>299.0</td>\n",
       "      <td>136.625418</td>\n",
       "      <td>4.412477</td>\n",
       "      <td>113.0</td>\n",
       "      <td>134.0</td>\n",
       "      <td>137.0</td>\n",
       "      <td>140.0</td>\n",
       "      <td>148.0</td>\n",
       "    </tr>\n",
       "    <tr>\n",
       "      <th>TIME</th>\n",
       "      <td>299.0</td>\n",
       "      <td>130.260870</td>\n",
       "      <td>77.614208</td>\n",
       "      <td>4.0</td>\n",
       "      <td>73.0</td>\n",
       "      <td>115.0</td>\n",
       "      <td>203.0</td>\n",
       "      <td>285.0</td>\n",
       "    </tr>\n",
       "  </tbody>\n",
       "</table>\n",
       "</div>"
      ],
      "text/plain": [
       "                          count           mean           std      min  \\\n",
       "AGE                       299.0      60.833893     11.894809     40.0   \n",
       "CREATININE_PHOSPHOKINASE  299.0     581.839465    970.287881     23.0   \n",
       "EJECTION_FRACTION         299.0      38.083612     11.834841     14.0   \n",
       "PLATELETS                 299.0  263358.029264  97804.236869  25100.0   \n",
       "SERUM_CREATININE          299.0       1.393880      1.034510      0.5   \n",
       "SERUM_SODIUM              299.0     136.625418      4.412477    113.0   \n",
       "TIME                      299.0     130.260870     77.614208      4.0   \n",
       "\n",
       "                               25%       50%       75%       max  \n",
       "AGE                           51.0      60.0      70.0      95.0  \n",
       "CREATININE_PHOSPHOKINASE     116.5     250.0     582.0    7861.0  \n",
       "EJECTION_FRACTION             30.0      38.0      45.0      80.0  \n",
       "PLATELETS                 212500.0  262000.0  303500.0  850000.0  \n",
       "SERUM_CREATININE               0.9       1.1       1.4       9.4  \n",
       "SERUM_SODIUM                 134.0     137.0     140.0     148.0  \n",
       "TIME                          73.0     115.0     203.0     285.0  "
      ]
     },
     "metadata": {},
     "output_type": "display_data"
    }
   ],
   "source": [
    "##################################\n",
    "# Performing a general exploration \n",
    "# of the numeric variables\n",
    "##################################\n",
    "print('Numeric Variable Summary:')\n",
    "display(heart_failure.describe(include='number').transpose())"
   ]
  },
  {
   "cell_type": "code",
   "execution_count": 18,
   "id": "ed7d330f-dec8-4f0c-96c6-c5c30d321d91",
   "metadata": {},
   "outputs": [
    {
     "name": "stdout",
     "output_type": "stream",
     "text": [
      "Categorical Variable Summary:\n"
     ]
    },
    {
     "data": {
      "text/html": [
       "<div>\n",
       "<style scoped>\n",
       "    .dataframe tbody tr th:only-of-type {\n",
       "        vertical-align: middle;\n",
       "    }\n",
       "\n",
       "    .dataframe tbody tr th {\n",
       "        vertical-align: top;\n",
       "    }\n",
       "\n",
       "    .dataframe thead th {\n",
       "        text-align: right;\n",
       "    }\n",
       "</style>\n",
       "<table border=\"1\" class=\"dataframe\">\n",
       "  <thead>\n",
       "    <tr style=\"text-align: right;\">\n",
       "      <th></th>\n",
       "      <th>count</th>\n",
       "      <th>unique</th>\n",
       "      <th>top</th>\n",
       "      <th>freq</th>\n",
       "    </tr>\n",
       "  </thead>\n",
       "  <tbody>\n",
       "    <tr>\n",
       "      <th>ANAEMIA</th>\n",
       "      <td>299</td>\n",
       "      <td>2</td>\n",
       "      <td>Absent</td>\n",
       "      <td>170</td>\n",
       "    </tr>\n",
       "    <tr>\n",
       "      <th>DIABETES</th>\n",
       "      <td>299</td>\n",
       "      <td>2</td>\n",
       "      <td>Absent</td>\n",
       "      <td>174</td>\n",
       "    </tr>\n",
       "    <tr>\n",
       "      <th>HIGH_BLOOD_PRESSURE</th>\n",
       "      <td>299</td>\n",
       "      <td>2</td>\n",
       "      <td>Absent</td>\n",
       "      <td>194</td>\n",
       "    </tr>\n",
       "    <tr>\n",
       "      <th>SEX</th>\n",
       "      <td>299</td>\n",
       "      <td>2</td>\n",
       "      <td>Male</td>\n",
       "      <td>194</td>\n",
       "    </tr>\n",
       "    <tr>\n",
       "      <th>SMOKING</th>\n",
       "      <td>299</td>\n",
       "      <td>2</td>\n",
       "      <td>Absent</td>\n",
       "      <td>203</td>\n",
       "    </tr>\n",
       "    <tr>\n",
       "      <th>DEATH_EVENT</th>\n",
       "      <td>299</td>\n",
       "      <td>2</td>\n",
       "      <td>0</td>\n",
       "      <td>203</td>\n",
       "    </tr>\n",
       "  </tbody>\n",
       "</table>\n",
       "</div>"
      ],
      "text/plain": [
       "                    count unique     top freq\n",
       "ANAEMIA               299      2  Absent  170\n",
       "DIABETES              299      2  Absent  174\n",
       "HIGH_BLOOD_PRESSURE   299      2  Absent  194\n",
       "SEX                   299      2    Male  194\n",
       "SMOKING               299      2  Absent  203\n",
       "DEATH_EVENT           299      2       0  203"
      ]
     },
     "metadata": {},
     "output_type": "display_data"
    }
   ],
   "source": [
    "##################################\n",
    "# Performing a general exploration \n",
    "# of the object and categorical variables\n",
    "##################################\n",
    "print('Categorical Variable Summary:')\n",
    "display(heart_failure.describe(include=['category','object']).transpose())"
   ]
  },
  {
   "cell_type": "markdown",
   "id": "57759e48-85e1-4e65-97b2-3dfd6b456a07",
   "metadata": {},
   "source": [
    "## 1.3. Data Quality Assessment <a class=\"anchor\" id=\"1.3\"></a>\n",
    "\n",
    "Data quality findings based on assessment are as follows:\n",
    "1. No duplicated rows observed. All entries are unique.\n",
    "2. No missing data noted for any variable with Null.Count>0 and Fill.Rate<1.0.\n",
    "3. Low variance observed for two numeric predictors with First.Second.Mode.Ratio>5.\n",
    "    * <span style=\"color: #FF0000\">CREATININE_PHOSPHOKINASE</span>: First.Second.Mode.Ratio = 11.75\n",
    "    * <span style=\"color: #FF0000\">PLATELETS</span>: First.Second.Mode.Ratio = 6.25\n",
    "4. No high skewness observed for the numeric predictor with Skewness>3 or Skewness<(-3).\n",
    "   * <span style=\"color: #FF0000\">CREATININE_PHOSPHOKINASE</span>: Skewness = +4.46\n",
    "    * <span style=\"color: #FF0000\">SERUM_CREATININE</span>: Skewness = +4.46\n",
    "5. No low variance observed for the numeric and categorical predictors with Unique.Count.Ratio>10.\n"
   ]
  },
  {
   "cell_type": "code",
   "execution_count": 19,
   "id": "26f98132-b43e-4d46-9d9b-4fa27b5aa57a",
   "metadata": {},
   "outputs": [
    {
     "data": {
      "text/plain": [
       "0"
      ]
     },
     "execution_count": 19,
     "metadata": {},
     "output_type": "execute_result"
    }
   ],
   "source": [
    "##################################\n",
    "# Counting the number of duplicated rows\n",
    "##################################\n",
    "heart_failure.duplicated().sum()"
   ]
  },
  {
   "cell_type": "code",
   "execution_count": 20,
   "id": "98af828c-8e62-4917-a9a7-75f1362cc762",
   "metadata": {},
   "outputs": [],
   "source": [
    "##################################\n",
    "# Gathering the data types for each column\n",
    "##################################\n",
    "data_type_list = list(heart_failure.dtypes)"
   ]
  },
  {
   "cell_type": "code",
   "execution_count": 21,
   "id": "569ef051-1abe-46e7-a641-c010ed7cbb52",
   "metadata": {},
   "outputs": [],
   "source": [
    "##################################\n",
    "# Gathering the variable names for each column\n",
    "##################################\n",
    "variable_name_list = list(heart_failure.columns)"
   ]
  },
  {
   "cell_type": "code",
   "execution_count": 22,
   "id": "2b73d356-81c2-4053-99d2-236265c23df8",
   "metadata": {},
   "outputs": [],
   "source": [
    "##################################\n",
    "# Gathering the number of observations for each column\n",
    "##################################\n",
    "row_count_list = list([len(heart_failure)] * len(heart_failure.columns))"
   ]
  },
  {
   "cell_type": "code",
   "execution_count": 23,
   "id": "7c0dd145-9612-4ef1-b9eb-c4227350c4e6",
   "metadata": {},
   "outputs": [],
   "source": [
    "##################################\n",
    "# Gathering the number of missing data for each column\n",
    "##################################\n",
    "null_count_list = list(heart_failure.isna().sum(axis=0))"
   ]
  },
  {
   "cell_type": "code",
   "execution_count": 24,
   "id": "cb12a29c-b8cf-49e3-8967-1453e24f259e",
   "metadata": {},
   "outputs": [],
   "source": [
    "##################################\n",
    "# Gathering the number of non-missing data for each column\n",
    "##################################\n",
    "non_null_count_list = list(heart_failure.count())"
   ]
  },
  {
   "cell_type": "code",
   "execution_count": 25,
   "id": "de57b064-db44-4f03-b4da-091e55a8dac4",
   "metadata": {},
   "outputs": [],
   "source": [
    "##################################\n",
    "# Gathering the missing data percentage for each column\n",
    "##################################\n",
    "fill_rate_list = map(truediv, non_null_count_list, row_count_list)"
   ]
  },
  {
   "cell_type": "code",
   "execution_count": 26,
   "id": "8031fdb2-c052-4e10-bc65-cc8a23c10edf",
   "metadata": {},
   "outputs": [
    {
     "data": {
      "text/html": [
       "<div>\n",
       "<style scoped>\n",
       "    .dataframe tbody tr th:only-of-type {\n",
       "        vertical-align: middle;\n",
       "    }\n",
       "\n",
       "    .dataframe tbody tr th {\n",
       "        vertical-align: top;\n",
       "    }\n",
       "\n",
       "    .dataframe thead th {\n",
       "        text-align: right;\n",
       "    }\n",
       "</style>\n",
       "<table border=\"1\" class=\"dataframe\">\n",
       "  <thead>\n",
       "    <tr style=\"text-align: right;\">\n",
       "      <th></th>\n",
       "      <th>Column.Name</th>\n",
       "      <th>Column.Type</th>\n",
       "      <th>Row.Count</th>\n",
       "      <th>Non.Null.Count</th>\n",
       "      <th>Null.Count</th>\n",
       "      <th>Fill.Rate</th>\n",
       "    </tr>\n",
       "  </thead>\n",
       "  <tbody>\n",
       "    <tr>\n",
       "      <th>0</th>\n",
       "      <td>AGE</td>\n",
       "      <td>float64</td>\n",
       "      <td>299</td>\n",
       "      <td>299</td>\n",
       "      <td>0</td>\n",
       "      <td>1.0</td>\n",
       "    </tr>\n",
       "    <tr>\n",
       "      <th>1</th>\n",
       "      <td>ANAEMIA</td>\n",
       "      <td>object</td>\n",
       "      <td>299</td>\n",
       "      <td>299</td>\n",
       "      <td>0</td>\n",
       "      <td>1.0</td>\n",
       "    </tr>\n",
       "    <tr>\n",
       "      <th>2</th>\n",
       "      <td>CREATININE_PHOSPHOKINASE</td>\n",
       "      <td>float64</td>\n",
       "      <td>299</td>\n",
       "      <td>299</td>\n",
       "      <td>0</td>\n",
       "      <td>1.0</td>\n",
       "    </tr>\n",
       "    <tr>\n",
       "      <th>3</th>\n",
       "      <td>DIABETES</td>\n",
       "      <td>object</td>\n",
       "      <td>299</td>\n",
       "      <td>299</td>\n",
       "      <td>0</td>\n",
       "      <td>1.0</td>\n",
       "    </tr>\n",
       "    <tr>\n",
       "      <th>4</th>\n",
       "      <td>EJECTION_FRACTION</td>\n",
       "      <td>float64</td>\n",
       "      <td>299</td>\n",
       "      <td>299</td>\n",
       "      <td>0</td>\n",
       "      <td>1.0</td>\n",
       "    </tr>\n",
       "    <tr>\n",
       "      <th>5</th>\n",
       "      <td>HIGH_BLOOD_PRESSURE</td>\n",
       "      <td>object</td>\n",
       "      <td>299</td>\n",
       "      <td>299</td>\n",
       "      <td>0</td>\n",
       "      <td>1.0</td>\n",
       "    </tr>\n",
       "    <tr>\n",
       "      <th>6</th>\n",
       "      <td>PLATELETS</td>\n",
       "      <td>float64</td>\n",
       "      <td>299</td>\n",
       "      <td>299</td>\n",
       "      <td>0</td>\n",
       "      <td>1.0</td>\n",
       "    </tr>\n",
       "    <tr>\n",
       "      <th>7</th>\n",
       "      <td>SERUM_CREATININE</td>\n",
       "      <td>float64</td>\n",
       "      <td>299</td>\n",
       "      <td>299</td>\n",
       "      <td>0</td>\n",
       "      <td>1.0</td>\n",
       "    </tr>\n",
       "    <tr>\n",
       "      <th>8</th>\n",
       "      <td>SERUM_SODIUM</td>\n",
       "      <td>float64</td>\n",
       "      <td>299</td>\n",
       "      <td>299</td>\n",
       "      <td>0</td>\n",
       "      <td>1.0</td>\n",
       "    </tr>\n",
       "    <tr>\n",
       "      <th>9</th>\n",
       "      <td>SEX</td>\n",
       "      <td>object</td>\n",
       "      <td>299</td>\n",
       "      <td>299</td>\n",
       "      <td>0</td>\n",
       "      <td>1.0</td>\n",
       "    </tr>\n",
       "    <tr>\n",
       "      <th>10</th>\n",
       "      <td>SMOKING</td>\n",
       "      <td>object</td>\n",
       "      <td>299</td>\n",
       "      <td>299</td>\n",
       "      <td>0</td>\n",
       "      <td>1.0</td>\n",
       "    </tr>\n",
       "    <tr>\n",
       "      <th>11</th>\n",
       "      <td>TIME</td>\n",
       "      <td>float64</td>\n",
       "      <td>299</td>\n",
       "      <td>299</td>\n",
       "      <td>0</td>\n",
       "      <td>1.0</td>\n",
       "    </tr>\n",
       "    <tr>\n",
       "      <th>12</th>\n",
       "      <td>DEATH_EVENT</td>\n",
       "      <td>category</td>\n",
       "      <td>299</td>\n",
       "      <td>299</td>\n",
       "      <td>0</td>\n",
       "      <td>1.0</td>\n",
       "    </tr>\n",
       "  </tbody>\n",
       "</table>\n",
       "</div>"
      ],
      "text/plain": [
       "                 Column.Name Column.Type  Row.Count  Non.Null.Count  \\\n",
       "0                        AGE     float64        299             299   \n",
       "1                    ANAEMIA      object        299             299   \n",
       "2   CREATININE_PHOSPHOKINASE     float64        299             299   \n",
       "3                   DIABETES      object        299             299   \n",
       "4          EJECTION_FRACTION     float64        299             299   \n",
       "5        HIGH_BLOOD_PRESSURE      object        299             299   \n",
       "6                  PLATELETS     float64        299             299   \n",
       "7           SERUM_CREATININE     float64        299             299   \n",
       "8               SERUM_SODIUM     float64        299             299   \n",
       "9                        SEX      object        299             299   \n",
       "10                   SMOKING      object        299             299   \n",
       "11                      TIME     float64        299             299   \n",
       "12               DEATH_EVENT    category        299             299   \n",
       "\n",
       "    Null.Count  Fill.Rate  \n",
       "0            0        1.0  \n",
       "1            0        1.0  \n",
       "2            0        1.0  \n",
       "3            0        1.0  \n",
       "4            0        1.0  \n",
       "5            0        1.0  \n",
       "6            0        1.0  \n",
       "7            0        1.0  \n",
       "8            0        1.0  \n",
       "9            0        1.0  \n",
       "10           0        1.0  \n",
       "11           0        1.0  \n",
       "12           0        1.0  "
      ]
     },
     "metadata": {},
     "output_type": "display_data"
    }
   ],
   "source": [
    "##################################\n",
    "# Formulating the summary\n",
    "# for all columns\n",
    "##################################\n",
    "all_column_quality_summary = pd.DataFrame(zip(variable_name_list,\n",
    "                                              data_type_list,\n",
    "                                              row_count_list,\n",
    "                                              non_null_count_list,\n",
    "                                              null_count_list,\n",
    "                                              fill_rate_list), \n",
    "                                        columns=['Column.Name',\n",
    "                                                 'Column.Type',\n",
    "                                                 'Row.Count',\n",
    "                                                 'Non.Null.Count',\n",
    "                                                 'Null.Count',                                                 \n",
    "                                                 'Fill.Rate'])\n",
    "display(all_column_quality_summary)"
   ]
  },
  {
   "cell_type": "code",
   "execution_count": 27,
   "id": "2cca9f77-6417-4106-8a73-423e7d9b4908",
   "metadata": {},
   "outputs": [
    {
     "name": "stdout",
     "output_type": "stream",
     "text": [
      "Number of Columns with Missing Data: 0\n"
     ]
    }
   ],
   "source": [
    "##################################\n",
    "# Counting the number of columns\n",
    "# with Fill.Rate < 1.00\n",
    "##################################\n",
    "print('Number of Columns with Missing Data:', str(len(all_column_quality_summary[(all_column_quality_summary['Fill.Rate']<1)])))"
   ]
  },
  {
   "cell_type": "code",
   "execution_count": 28,
   "id": "2ec0c2fe-4c3d-40c6-8e77-34e76d3153b6",
   "metadata": {},
   "outputs": [],
   "source": [
    "##################################\n",
    "# Gathering the metadata labels for each observation\n",
    "##################################\n",
    "row_metadata_list = heart_failure.index.values.tolist()"
   ]
  },
  {
   "cell_type": "code",
   "execution_count": 29,
   "id": "030aa79d-f0c9-414d-9899-686640583dc3",
   "metadata": {},
   "outputs": [],
   "source": [
    "##################################\n",
    "# Gathering the number of columns for each observation\n",
    "##################################\n",
    "column_count_list = list([len(heart_failure.columns)] * len(heart_failure))"
   ]
  },
  {
   "cell_type": "code",
   "execution_count": 30,
   "id": "377017b8-15a1-4760-a2fb-ace8312ccfe4",
   "metadata": {},
   "outputs": [],
   "source": [
    "##################################\n",
    "# Gathering the number of missing data for each row\n",
    "##################################\n",
    "null_row_list = list(heart_failure.isna().sum(axis=1))"
   ]
  },
  {
   "cell_type": "code",
   "execution_count": 31,
   "id": "03c3bd60-5462-4809-adcd-ca0b7fe17fea",
   "metadata": {},
   "outputs": [],
   "source": [
    "##################################\n",
    "# Gathering the missing data percentage for each column\n",
    "##################################\n",
    "missing_rate_list = map(truediv, null_row_list, column_count_list)"
   ]
  },
  {
   "cell_type": "code",
   "execution_count": 32,
   "id": "ea7df1aa-18c6-46c8-9e10-c3059913b579",
   "metadata": {},
   "outputs": [
    {
     "data": {
      "text/html": [
       "<div>\n",
       "<style scoped>\n",
       "    .dataframe tbody tr th:only-of-type {\n",
       "        vertical-align: middle;\n",
       "    }\n",
       "\n",
       "    .dataframe tbody tr th {\n",
       "        vertical-align: top;\n",
       "    }\n",
       "\n",
       "    .dataframe thead th {\n",
       "        text-align: right;\n",
       "    }\n",
       "</style>\n",
       "<table border=\"1\" class=\"dataframe\">\n",
       "  <thead>\n",
       "    <tr style=\"text-align: right;\">\n",
       "      <th></th>\n",
       "      <th>Row.Name</th>\n",
       "      <th>Column.Count</th>\n",
       "      <th>Null.Count</th>\n",
       "      <th>Missing.Rate</th>\n",
       "    </tr>\n",
       "  </thead>\n",
       "  <tbody>\n",
       "    <tr>\n",
       "      <th>0</th>\n",
       "      <td>0</td>\n",
       "      <td>13</td>\n",
       "      <td>0</td>\n",
       "      <td>0.0</td>\n",
       "    </tr>\n",
       "    <tr>\n",
       "      <th>1</th>\n",
       "      <td>1</td>\n",
       "      <td>13</td>\n",
       "      <td>0</td>\n",
       "      <td>0.0</td>\n",
       "    </tr>\n",
       "    <tr>\n",
       "      <th>2</th>\n",
       "      <td>2</td>\n",
       "      <td>13</td>\n",
       "      <td>0</td>\n",
       "      <td>0.0</td>\n",
       "    </tr>\n",
       "    <tr>\n",
       "      <th>3</th>\n",
       "      <td>3</td>\n",
       "      <td>13</td>\n",
       "      <td>0</td>\n",
       "      <td>0.0</td>\n",
       "    </tr>\n",
       "    <tr>\n",
       "      <th>4</th>\n",
       "      <td>4</td>\n",
       "      <td>13</td>\n",
       "      <td>0</td>\n",
       "      <td>0.0</td>\n",
       "    </tr>\n",
       "    <tr>\n",
       "      <th>...</th>\n",
       "      <td>...</td>\n",
       "      <td>...</td>\n",
       "      <td>...</td>\n",
       "      <td>...</td>\n",
       "    </tr>\n",
       "    <tr>\n",
       "      <th>294</th>\n",
       "      <td>294</td>\n",
       "      <td>13</td>\n",
       "      <td>0</td>\n",
       "      <td>0.0</td>\n",
       "    </tr>\n",
       "    <tr>\n",
       "      <th>295</th>\n",
       "      <td>295</td>\n",
       "      <td>13</td>\n",
       "      <td>0</td>\n",
       "      <td>0.0</td>\n",
       "    </tr>\n",
       "    <tr>\n",
       "      <th>296</th>\n",
       "      <td>296</td>\n",
       "      <td>13</td>\n",
       "      <td>0</td>\n",
       "      <td>0.0</td>\n",
       "    </tr>\n",
       "    <tr>\n",
       "      <th>297</th>\n",
       "      <td>297</td>\n",
       "      <td>13</td>\n",
       "      <td>0</td>\n",
       "      <td>0.0</td>\n",
       "    </tr>\n",
       "    <tr>\n",
       "      <th>298</th>\n",
       "      <td>298</td>\n",
       "      <td>13</td>\n",
       "      <td>0</td>\n",
       "      <td>0.0</td>\n",
       "    </tr>\n",
       "  </tbody>\n",
       "</table>\n",
       "<p>299 rows × 4 columns</p>\n",
       "</div>"
      ],
      "text/plain": [
       "     Row.Name  Column.Count  Null.Count  Missing.Rate\n",
       "0           0            13           0           0.0\n",
       "1           1            13           0           0.0\n",
       "2           2            13           0           0.0\n",
       "3           3            13           0           0.0\n",
       "4           4            13           0           0.0\n",
       "..        ...           ...         ...           ...\n",
       "294       294            13           0           0.0\n",
       "295       295            13           0           0.0\n",
       "296       296            13           0           0.0\n",
       "297       297            13           0           0.0\n",
       "298       298            13           0           0.0\n",
       "\n",
       "[299 rows x 4 columns]"
      ]
     },
     "metadata": {},
     "output_type": "display_data"
    }
   ],
   "source": [
    "##################################\n",
    "# Exploring the rows\n",
    "# for missing data\n",
    "##################################\n",
    "all_row_quality_summary = pd.DataFrame(zip(row_metadata_list,\n",
    "                                           column_count_list,\n",
    "                                           null_row_list,\n",
    "                                           missing_rate_list), \n",
    "                                        columns=['Row.Name',\n",
    "                                                 'Column.Count',\n",
    "                                                 'Null.Count',                                                 \n",
    "                                                 'Missing.Rate'])\n",
    "display(all_row_quality_summary)"
   ]
  },
  {
   "cell_type": "code",
   "execution_count": 33,
   "id": "569f85bf-1e22-4e55-bfcc-05457d33298d",
   "metadata": {},
   "outputs": [
    {
     "name": "stdout",
     "output_type": "stream",
     "text": [
      "Number of Rows with Missing Data: 0\n"
     ]
    }
   ],
   "source": [
    "##################################\n",
    "# Counting the number of rows\n",
    "# with Fill.Rate < 1.00\n",
    "##################################\n",
    "print('Number of Rows with Missing Data:',str(len(all_row_quality_summary[all_row_quality_summary['Missing.Rate']>0])))"
   ]
  },
  {
   "cell_type": "code",
   "execution_count": 34,
   "id": "36c4a885-71d6-4ed1-b175-90ee85c20a97",
   "metadata": {},
   "outputs": [],
   "source": [
    "##################################\n",
    "# Formulating the dataset\n",
    "# with numeric columns only\n",
    "##################################\n",
    "heart_failure_numeric = heart_failure.select_dtypes(include=['number','int'])"
   ]
  },
  {
   "cell_type": "code",
   "execution_count": 35,
   "id": "bcaeb4dd-7519-4be8-b1ba-59e6ed3259fc",
   "metadata": {},
   "outputs": [],
   "source": [
    "##################################\n",
    "# Gathering the variable names for each numeric column\n",
    "##################################\n",
    "numeric_variable_name_list = heart_failure_numeric.columns"
   ]
  },
  {
   "cell_type": "code",
   "execution_count": 36,
   "id": "1750c362-66ed-4991-98db-e29d5f433199",
   "metadata": {},
   "outputs": [],
   "source": [
    "##################################\n",
    "# Gathering the minimum value for each numeric column\n",
    "##################################\n",
    "numeric_minimum_list = heart_failure_numeric.min()"
   ]
  },
  {
   "cell_type": "code",
   "execution_count": 37,
   "id": "50e0064f-e5d7-49cf-8317-e4e1629f895e",
   "metadata": {},
   "outputs": [],
   "source": [
    "##################################\n",
    "# Gathering the mean value for each numeric column\n",
    "##################################\n",
    "numeric_mean_list = heart_failure_numeric.mean()"
   ]
  },
  {
   "cell_type": "code",
   "execution_count": 38,
   "id": "d7a3bf4e-058e-480a-bfe3-f8904037a068",
   "metadata": {},
   "outputs": [],
   "source": [
    "##################################\n",
    "# Gathering the median value for each numeric column\n",
    "##################################\n",
    "numeric_median_list = heart_failure_numeric.median()"
   ]
  },
  {
   "cell_type": "code",
   "execution_count": 39,
   "id": "f1346537-d731-4a71-aed4-1dc3eb056b2b",
   "metadata": {},
   "outputs": [],
   "source": [
    "##################################\n",
    "# Gathering the maximum value for each numeric column\n",
    "##################################\n",
    "numeric_maximum_list = heart_failure_numeric.max()"
   ]
  },
  {
   "cell_type": "code",
   "execution_count": 40,
   "id": "3d284832-e0ca-4319-b005-ec1d54b41e28",
   "metadata": {},
   "outputs": [],
   "source": [
    "##################################\n",
    "# Gathering the first mode values for each numeric column\n",
    "##################################\n",
    "numeric_first_mode_list = [heart_failure[x].value_counts(dropna=True).index.tolist()[0] for x in heart_failure_numeric]"
   ]
  },
  {
   "cell_type": "code",
   "execution_count": 41,
   "id": "120e5f17-df3a-4bc0-92b8-3d48a3714eac",
   "metadata": {},
   "outputs": [],
   "source": [
    "##################################\n",
    "# Gathering the second mode values for each numeric column\n",
    "##################################\n",
    "numeric_second_mode_list = [heart_failure[x].value_counts(dropna=True).index.tolist()[1] for x in heart_failure_numeric]"
   ]
  },
  {
   "cell_type": "code",
   "execution_count": 42,
   "id": "debd9717-7ad8-43c4-a6bf-344ac9d87f70",
   "metadata": {},
   "outputs": [],
   "source": [
    "##################################\n",
    "# Gathering the count of first mode values for each numeric column\n",
    "##################################\n",
    "numeric_first_mode_count_list = [heart_failure_numeric[x].isin([heart_failure[x].value_counts(dropna=True).index.tolist()[0]]).sum() for x in heart_failure_numeric]"
   ]
  },
  {
   "cell_type": "code",
   "execution_count": 43,
   "id": "669bda13-9e27-4505-a9ce-6bfb2d0eea76",
   "metadata": {},
   "outputs": [],
   "source": [
    "##################################\n",
    "# Gathering the count of second mode values for each numeric column\n",
    "##################################\n",
    "numeric_second_mode_count_list = [heart_failure_numeric[x].isin([heart_failure[x].value_counts(dropna=True).index.tolist()[1]]).sum() for x in heart_failure_numeric]"
   ]
  },
  {
   "cell_type": "code",
   "execution_count": 44,
   "id": "d022a1c7-49cb-4b4a-94e1-ab67e6d8d125",
   "metadata": {},
   "outputs": [],
   "source": [
    "##################################\n",
    "# Gathering the first mode to second mode ratio for each numeric column\n",
    "##################################\n",
    "numeric_first_second_mode_ratio_list = map(truediv, numeric_first_mode_count_list, numeric_second_mode_count_list)"
   ]
  },
  {
   "cell_type": "code",
   "execution_count": 45,
   "id": "6ca51687-fb50-4d04-9283-7b7300bce1a6",
   "metadata": {},
   "outputs": [],
   "source": [
    "##################################\n",
    "# Gathering the count of unique values for each numeric column\n",
    "##################################\n",
    "numeric_unique_count_list = heart_failure_numeric.nunique(dropna=True)"
   ]
  },
  {
   "cell_type": "code",
   "execution_count": 46,
   "id": "a0803926-5b98-4670-a49e-c14299d39e99",
   "metadata": {},
   "outputs": [],
   "source": [
    "##################################\n",
    "# Gathering the number of observations for each numeric column\n",
    "##################################\n",
    "numeric_row_count_list = list([len(heart_failure_numeric)] * len(heart_failure_numeric.columns))"
   ]
  },
  {
   "cell_type": "code",
   "execution_count": 47,
   "id": "29350142-b312-4a69-a892-885e3c694380",
   "metadata": {},
   "outputs": [],
   "source": [
    "##################################\n",
    "# Gathering the unique to count ratio for each numeric column\n",
    "##################################\n",
    "numeric_unique_count_ratio_list = map(truediv, numeric_unique_count_list, numeric_row_count_list)"
   ]
  },
  {
   "cell_type": "code",
   "execution_count": 48,
   "id": "ed645f22-4387-43ed-a7d6-60a239882a62",
   "metadata": {},
   "outputs": [],
   "source": [
    "##################################\n",
    "# Gathering the skewness value for each numeric column\n",
    "##################################\n",
    "numeric_skewness_list = heart_failure_numeric.skew()"
   ]
  },
  {
   "cell_type": "code",
   "execution_count": 49,
   "id": "6d8bd4ba-f20f-4b94-946e-04bcfdfbb701",
   "metadata": {},
   "outputs": [],
   "source": [
    "##################################\n",
    "# Gathering the kurtosis value for each numeric column\n",
    "##################################\n",
    "numeric_kurtosis_list = heart_failure_numeric.kurtosis()"
   ]
  },
  {
   "cell_type": "code",
   "execution_count": 50,
   "id": "f3740d7f-3a56-47ab-a19f-ca86719f02d8",
   "metadata": {},
   "outputs": [
    {
     "data": {
      "text/html": [
       "<div>\n",
       "<style scoped>\n",
       "    .dataframe tbody tr th:only-of-type {\n",
       "        vertical-align: middle;\n",
       "    }\n",
       "\n",
       "    .dataframe tbody tr th {\n",
       "        vertical-align: top;\n",
       "    }\n",
       "\n",
       "    .dataframe thead th {\n",
       "        text-align: right;\n",
       "    }\n",
       "</style>\n",
       "<table border=\"1\" class=\"dataframe\">\n",
       "  <thead>\n",
       "    <tr style=\"text-align: right;\">\n",
       "      <th></th>\n",
       "      <th>Numeric.Column.Name</th>\n",
       "      <th>Minimum</th>\n",
       "      <th>Mean</th>\n",
       "      <th>Median</th>\n",
       "      <th>Maximum</th>\n",
       "      <th>First.Mode</th>\n",
       "      <th>Second.Mode</th>\n",
       "      <th>First.Mode.Count</th>\n",
       "      <th>Second.Mode.Count</th>\n",
       "      <th>First.Second.Mode.Ratio</th>\n",
       "      <th>Unique.Count</th>\n",
       "      <th>Row.Count</th>\n",
       "      <th>Unique.Count.Ratio</th>\n",
       "      <th>Skewness</th>\n",
       "      <th>Kurtosis</th>\n",
       "    </tr>\n",
       "  </thead>\n",
       "  <tbody>\n",
       "    <tr>\n",
       "      <th>0</th>\n",
       "      <td>AGE</td>\n",
       "      <td>40.0</td>\n",
       "      <td>60.833893</td>\n",
       "      <td>60.0</td>\n",
       "      <td>95.0</td>\n",
       "      <td>60.00</td>\n",
       "      <td>50.0</td>\n",
       "      <td>33</td>\n",
       "      <td>27</td>\n",
       "      <td>1.222222</td>\n",
       "      <td>47</td>\n",
       "      <td>299</td>\n",
       "      <td>0.157191</td>\n",
       "      <td>0.423062</td>\n",
       "      <td>-0.184871</td>\n",
       "    </tr>\n",
       "    <tr>\n",
       "      <th>1</th>\n",
       "      <td>CREATININE_PHOSPHOKINASE</td>\n",
       "      <td>23.0</td>\n",
       "      <td>581.839465</td>\n",
       "      <td>250.0</td>\n",
       "      <td>7861.0</td>\n",
       "      <td>582.00</td>\n",
       "      <td>66.0</td>\n",
       "      <td>47</td>\n",
       "      <td>4</td>\n",
       "      <td>11.750000</td>\n",
       "      <td>208</td>\n",
       "      <td>299</td>\n",
       "      <td>0.695652</td>\n",
       "      <td>4.463110</td>\n",
       "      <td>25.149046</td>\n",
       "    </tr>\n",
       "    <tr>\n",
       "      <th>2</th>\n",
       "      <td>EJECTION_FRACTION</td>\n",
       "      <td>14.0</td>\n",
       "      <td>38.083612</td>\n",
       "      <td>38.0</td>\n",
       "      <td>80.0</td>\n",
       "      <td>35.00</td>\n",
       "      <td>38.0</td>\n",
       "      <td>49</td>\n",
       "      <td>40</td>\n",
       "      <td>1.225000</td>\n",
       "      <td>17</td>\n",
       "      <td>299</td>\n",
       "      <td>0.056856</td>\n",
       "      <td>0.555383</td>\n",
       "      <td>0.041409</td>\n",
       "    </tr>\n",
       "    <tr>\n",
       "      <th>3</th>\n",
       "      <td>PLATELETS</td>\n",
       "      <td>25100.0</td>\n",
       "      <td>263358.029264</td>\n",
       "      <td>262000.0</td>\n",
       "      <td>850000.0</td>\n",
       "      <td>263358.03</td>\n",
       "      <td>221000.0</td>\n",
       "      <td>25</td>\n",
       "      <td>4</td>\n",
       "      <td>6.250000</td>\n",
       "      <td>176</td>\n",
       "      <td>299</td>\n",
       "      <td>0.588629</td>\n",
       "      <td>1.462321</td>\n",
       "      <td>6.209255</td>\n",
       "    </tr>\n",
       "    <tr>\n",
       "      <th>4</th>\n",
       "      <td>SERUM_CREATININE</td>\n",
       "      <td>0.5</td>\n",
       "      <td>1.393880</td>\n",
       "      <td>1.1</td>\n",
       "      <td>9.4</td>\n",
       "      <td>1.00</td>\n",
       "      <td>1.1</td>\n",
       "      <td>50</td>\n",
       "      <td>32</td>\n",
       "      <td>1.562500</td>\n",
       "      <td>40</td>\n",
       "      <td>299</td>\n",
       "      <td>0.133779</td>\n",
       "      <td>4.455996</td>\n",
       "      <td>25.828239</td>\n",
       "    </tr>\n",
       "    <tr>\n",
       "      <th>5</th>\n",
       "      <td>SERUM_SODIUM</td>\n",
       "      <td>113.0</td>\n",
       "      <td>136.625418</td>\n",
       "      <td>137.0</td>\n",
       "      <td>148.0</td>\n",
       "      <td>136.00</td>\n",
       "      <td>137.0</td>\n",
       "      <td>40</td>\n",
       "      <td>38</td>\n",
       "      <td>1.052632</td>\n",
       "      <td>27</td>\n",
       "      <td>299</td>\n",
       "      <td>0.090301</td>\n",
       "      <td>-1.048136</td>\n",
       "      <td>4.119712</td>\n",
       "    </tr>\n",
       "    <tr>\n",
       "      <th>6</th>\n",
       "      <td>TIME</td>\n",
       "      <td>4.0</td>\n",
       "      <td>130.260870</td>\n",
       "      <td>115.0</td>\n",
       "      <td>285.0</td>\n",
       "      <td>250.00</td>\n",
       "      <td>187.0</td>\n",
       "      <td>7</td>\n",
       "      <td>7</td>\n",
       "      <td>1.000000</td>\n",
       "      <td>148</td>\n",
       "      <td>299</td>\n",
       "      <td>0.494983</td>\n",
       "      <td>0.127803</td>\n",
       "      <td>-1.212048</td>\n",
       "    </tr>\n",
       "  </tbody>\n",
       "</table>\n",
       "</div>"
      ],
      "text/plain": [
       "        Numeric.Column.Name  Minimum           Mean    Median   Maximum  \\\n",
       "0                       AGE     40.0      60.833893      60.0      95.0   \n",
       "1  CREATININE_PHOSPHOKINASE     23.0     581.839465     250.0    7861.0   \n",
       "2         EJECTION_FRACTION     14.0      38.083612      38.0      80.0   \n",
       "3                 PLATELETS  25100.0  263358.029264  262000.0  850000.0   \n",
       "4          SERUM_CREATININE      0.5       1.393880       1.1       9.4   \n",
       "5              SERUM_SODIUM    113.0     136.625418     137.0     148.0   \n",
       "6                      TIME      4.0     130.260870     115.0     285.0   \n",
       "\n",
       "   First.Mode  Second.Mode  First.Mode.Count  Second.Mode.Count  \\\n",
       "0       60.00         50.0                33                 27   \n",
       "1      582.00         66.0                47                  4   \n",
       "2       35.00         38.0                49                 40   \n",
       "3   263358.03     221000.0                25                  4   \n",
       "4        1.00          1.1                50                 32   \n",
       "5      136.00        137.0                40                 38   \n",
       "6      250.00        187.0                 7                  7   \n",
       "\n",
       "   First.Second.Mode.Ratio  Unique.Count  Row.Count  Unique.Count.Ratio  \\\n",
       "0                 1.222222            47        299            0.157191   \n",
       "1                11.750000           208        299            0.695652   \n",
       "2                 1.225000            17        299            0.056856   \n",
       "3                 6.250000           176        299            0.588629   \n",
       "4                 1.562500            40        299            0.133779   \n",
       "5                 1.052632            27        299            0.090301   \n",
       "6                 1.000000           148        299            0.494983   \n",
       "\n",
       "   Skewness   Kurtosis  \n",
       "0  0.423062  -0.184871  \n",
       "1  4.463110  25.149046  \n",
       "2  0.555383   0.041409  \n",
       "3  1.462321   6.209255  \n",
       "4  4.455996  25.828239  \n",
       "5 -1.048136   4.119712  \n",
       "6  0.127803  -1.212048  "
      ]
     },
     "metadata": {},
     "output_type": "display_data"
    }
   ],
   "source": [
    "numeric_column_quality_summary = pd.DataFrame(zip(numeric_variable_name_list,\n",
    "                                                numeric_minimum_list,\n",
    "                                                numeric_mean_list,\n",
    "                                                numeric_median_list,\n",
    "                                                numeric_maximum_list,\n",
    "                                                numeric_first_mode_list,\n",
    "                                                numeric_second_mode_list,\n",
    "                                                numeric_first_mode_count_list,\n",
    "                                                numeric_second_mode_count_list,\n",
    "                                                numeric_first_second_mode_ratio_list,\n",
    "                                                numeric_unique_count_list,\n",
    "                                                numeric_row_count_list,\n",
    "                                                numeric_unique_count_ratio_list,\n",
    "                                                numeric_skewness_list,\n",
    "                                                numeric_kurtosis_list), \n",
    "                                        columns=['Numeric.Column.Name',\n",
    "                                                 'Minimum',\n",
    "                                                 'Mean',\n",
    "                                                 'Median',\n",
    "                                                 'Maximum',\n",
    "                                                 'First.Mode',\n",
    "                                                 'Second.Mode',\n",
    "                                                 'First.Mode.Count',\n",
    "                                                 'Second.Mode.Count',\n",
    "                                                 'First.Second.Mode.Ratio',\n",
    "                                                 'Unique.Count',\n",
    "                                                 'Row.Count',\n",
    "                                                 'Unique.Count.Ratio',\n",
    "                                                 'Skewness',\n",
    "                                                 'Kurtosis'])\n",
    "display(numeric_column_quality_summary)"
   ]
  },
  {
   "cell_type": "code",
   "execution_count": 51,
   "id": "c7d18232-f7ff-45f5-b00a-1cc9aa5b2c44",
   "metadata": {},
   "outputs": [
    {
     "data": {
      "text/plain": [
       "2"
      ]
     },
     "execution_count": 51,
     "metadata": {},
     "output_type": "execute_result"
    }
   ],
   "source": [
    "##################################\n",
    "# Counting the number of numeric columns\n",
    "# with First.Second.Mode.Ratio > 5.00\n",
    "##################################\n",
    "len(numeric_column_quality_summary[(numeric_column_quality_summary['First.Second.Mode.Ratio']>5)])"
   ]
  },
  {
   "cell_type": "code",
   "execution_count": 52,
   "id": "82497888-19bc-44b1-93ad-7c1cf2a293ce",
   "metadata": {},
   "outputs": [
    {
     "data": {
      "text/html": [
       "<div>\n",
       "<style scoped>\n",
       "    .dataframe tbody tr th:only-of-type {\n",
       "        vertical-align: middle;\n",
       "    }\n",
       "\n",
       "    .dataframe tbody tr th {\n",
       "        vertical-align: top;\n",
       "    }\n",
       "\n",
       "    .dataframe thead th {\n",
       "        text-align: right;\n",
       "    }\n",
       "</style>\n",
       "<table border=\"1\" class=\"dataframe\">\n",
       "  <thead>\n",
       "    <tr style=\"text-align: right;\">\n",
       "      <th></th>\n",
       "      <th>Numeric.Column.Name</th>\n",
       "      <th>Minimum</th>\n",
       "      <th>Mean</th>\n",
       "      <th>Median</th>\n",
       "      <th>Maximum</th>\n",
       "      <th>First.Mode</th>\n",
       "      <th>Second.Mode</th>\n",
       "      <th>First.Mode.Count</th>\n",
       "      <th>Second.Mode.Count</th>\n",
       "      <th>First.Second.Mode.Ratio</th>\n",
       "      <th>Unique.Count</th>\n",
       "      <th>Row.Count</th>\n",
       "      <th>Unique.Count.Ratio</th>\n",
       "      <th>Skewness</th>\n",
       "      <th>Kurtosis</th>\n",
       "    </tr>\n",
       "  </thead>\n",
       "  <tbody>\n",
       "    <tr>\n",
       "      <th>1</th>\n",
       "      <td>CREATININE_PHOSPHOKINASE</td>\n",
       "      <td>23.0</td>\n",
       "      <td>581.839465</td>\n",
       "      <td>250.0</td>\n",
       "      <td>7861.0</td>\n",
       "      <td>582.00</td>\n",
       "      <td>66.0</td>\n",
       "      <td>47</td>\n",
       "      <td>4</td>\n",
       "      <td>11.75</td>\n",
       "      <td>208</td>\n",
       "      <td>299</td>\n",
       "      <td>0.695652</td>\n",
       "      <td>4.463110</td>\n",
       "      <td>25.149046</td>\n",
       "    </tr>\n",
       "    <tr>\n",
       "      <th>3</th>\n",
       "      <td>PLATELETS</td>\n",
       "      <td>25100.0</td>\n",
       "      <td>263358.029264</td>\n",
       "      <td>262000.0</td>\n",
       "      <td>850000.0</td>\n",
       "      <td>263358.03</td>\n",
       "      <td>221000.0</td>\n",
       "      <td>25</td>\n",
       "      <td>4</td>\n",
       "      <td>6.25</td>\n",
       "      <td>176</td>\n",
       "      <td>299</td>\n",
       "      <td>0.588629</td>\n",
       "      <td>1.462321</td>\n",
       "      <td>6.209255</td>\n",
       "    </tr>\n",
       "  </tbody>\n",
       "</table>\n",
       "</div>"
      ],
      "text/plain": [
       "        Numeric.Column.Name  Minimum           Mean    Median   Maximum  \\\n",
       "1  CREATININE_PHOSPHOKINASE     23.0     581.839465     250.0    7861.0   \n",
       "3                 PLATELETS  25100.0  263358.029264  262000.0  850000.0   \n",
       "\n",
       "   First.Mode  Second.Mode  First.Mode.Count  Second.Mode.Count  \\\n",
       "1      582.00         66.0                47                  4   \n",
       "3   263358.03     221000.0                25                  4   \n",
       "\n",
       "   First.Second.Mode.Ratio  Unique.Count  Row.Count  Unique.Count.Ratio  \\\n",
       "1                    11.75           208        299            0.695652   \n",
       "3                     6.25           176        299            0.588629   \n",
       "\n",
       "   Skewness   Kurtosis  \n",
       "1  4.463110  25.149046  \n",
       "3  1.462321   6.209255  "
      ]
     },
     "metadata": {},
     "output_type": "display_data"
    }
   ],
   "source": [
    "##################################\n",
    "# Identifying the numeric columns\n",
    "# with First.Second.Mode.Ratio > 5.00\n",
    "##################################\n",
    "display(numeric_column_quality_summary[(numeric_column_quality_summary['First.Second.Mode.Ratio']>5)].sort_values(by=['First.Second.Mode.Ratio'], ascending=False))"
   ]
  },
  {
   "cell_type": "code",
   "execution_count": 53,
   "id": "6453f3b3-4623-4618-a347-137326a514b1",
   "metadata": {},
   "outputs": [
    {
     "data": {
      "text/plain": [
       "0"
      ]
     },
     "execution_count": 53,
     "metadata": {},
     "output_type": "execute_result"
    }
   ],
   "source": [
    "##################################\n",
    "# Counting the number of numeric columns\n",
    "# with Unique.Count.Ratio > 10.00\n",
    "##################################\n",
    "len(numeric_column_quality_summary[(numeric_column_quality_summary['Unique.Count.Ratio']>10)])"
   ]
  },
  {
   "cell_type": "code",
   "execution_count": 54,
   "id": "180c0c47-3cbd-4b47-a230-07b3c4473b90",
   "metadata": {},
   "outputs": [
    {
     "data": {
      "text/plain": [
       "2"
      ]
     },
     "execution_count": 54,
     "metadata": {},
     "output_type": "execute_result"
    }
   ],
   "source": [
    "##################################\n",
    "# Counting the number of numeric columns\n",
    "# with Skewness > 3.00 or Skewness < -3.00\n",
    "##################################\n",
    "len(numeric_column_quality_summary[(numeric_column_quality_summary['Skewness']>3) | (numeric_column_quality_summary['Skewness']<(-3))])"
   ]
  },
  {
   "cell_type": "code",
   "execution_count": 55,
   "id": "1e42f646-cf59-451e-be96-11659d0246bb",
   "metadata": {},
   "outputs": [
    {
     "data": {
      "text/html": [
       "<div>\n",
       "<style scoped>\n",
       "    .dataframe tbody tr th:only-of-type {\n",
       "        vertical-align: middle;\n",
       "    }\n",
       "\n",
       "    .dataframe tbody tr th {\n",
       "        vertical-align: top;\n",
       "    }\n",
       "\n",
       "    .dataframe thead th {\n",
       "        text-align: right;\n",
       "    }\n",
       "</style>\n",
       "<table border=\"1\" class=\"dataframe\">\n",
       "  <thead>\n",
       "    <tr style=\"text-align: right;\">\n",
       "      <th></th>\n",
       "      <th>Numeric.Column.Name</th>\n",
       "      <th>Minimum</th>\n",
       "      <th>Mean</th>\n",
       "      <th>Median</th>\n",
       "      <th>Maximum</th>\n",
       "      <th>First.Mode</th>\n",
       "      <th>Second.Mode</th>\n",
       "      <th>First.Mode.Count</th>\n",
       "      <th>Second.Mode.Count</th>\n",
       "      <th>First.Second.Mode.Ratio</th>\n",
       "      <th>Unique.Count</th>\n",
       "      <th>Row.Count</th>\n",
       "      <th>Unique.Count.Ratio</th>\n",
       "      <th>Skewness</th>\n",
       "      <th>Kurtosis</th>\n",
       "    </tr>\n",
       "  </thead>\n",
       "  <tbody>\n",
       "    <tr>\n",
       "      <th>1</th>\n",
       "      <td>CREATININE_PHOSPHOKINASE</td>\n",
       "      <td>23.0</td>\n",
       "      <td>581.839465</td>\n",
       "      <td>250.0</td>\n",
       "      <td>7861.0</td>\n",
       "      <td>582.0</td>\n",
       "      <td>66.0</td>\n",
       "      <td>47</td>\n",
       "      <td>4</td>\n",
       "      <td>11.7500</td>\n",
       "      <td>208</td>\n",
       "      <td>299</td>\n",
       "      <td>0.695652</td>\n",
       "      <td>4.463110</td>\n",
       "      <td>25.149046</td>\n",
       "    </tr>\n",
       "    <tr>\n",
       "      <th>4</th>\n",
       "      <td>SERUM_CREATININE</td>\n",
       "      <td>0.5</td>\n",
       "      <td>1.393880</td>\n",
       "      <td>1.1</td>\n",
       "      <td>9.4</td>\n",
       "      <td>1.0</td>\n",
       "      <td>1.1</td>\n",
       "      <td>50</td>\n",
       "      <td>32</td>\n",
       "      <td>1.5625</td>\n",
       "      <td>40</td>\n",
       "      <td>299</td>\n",
       "      <td>0.133779</td>\n",
       "      <td>4.455996</td>\n",
       "      <td>25.828239</td>\n",
       "    </tr>\n",
       "  </tbody>\n",
       "</table>\n",
       "</div>"
      ],
      "text/plain": [
       "        Numeric.Column.Name  Minimum        Mean  Median  Maximum  First.Mode  \\\n",
       "1  CREATININE_PHOSPHOKINASE     23.0  581.839465   250.0   7861.0       582.0   \n",
       "4          SERUM_CREATININE      0.5    1.393880     1.1      9.4         1.0   \n",
       "\n",
       "   Second.Mode  First.Mode.Count  Second.Mode.Count  First.Second.Mode.Ratio  \\\n",
       "1         66.0                47                  4                  11.7500   \n",
       "4          1.1                50                 32                   1.5625   \n",
       "\n",
       "   Unique.Count  Row.Count  Unique.Count.Ratio  Skewness   Kurtosis  \n",
       "1           208        299            0.695652  4.463110  25.149046  \n",
       "4            40        299            0.133779  4.455996  25.828239  "
      ]
     },
     "metadata": {},
     "output_type": "display_data"
    }
   ],
   "source": [
    "##################################\n",
    "# Identifying the numeric columns\n",
    "# with Skewness > 3.00 or Skewness < -3.00\n",
    "##################################\n",
    "display(numeric_column_quality_summary[(numeric_column_quality_summary['Skewness']>3) | (numeric_column_quality_summary['Skewness']<(-3))])"
   ]
  },
  {
   "cell_type": "code",
   "execution_count": 56,
   "id": "fd502015-60f2-4528-9510-dd8bca26b801",
   "metadata": {},
   "outputs": [],
   "source": [
    "##################################\n",
    "# Formulating the dataset\n",
    "# with object or categorical column only\n",
    "##################################\n",
    "heart_failure_object = heart_failure.select_dtypes(include=['object','category'])"
   ]
  },
  {
   "cell_type": "code",
   "execution_count": 57,
   "id": "e0351ff5-5cef-4f14-954f-252e2140c9b2",
   "metadata": {},
   "outputs": [],
   "source": [
    "##################################\n",
    "# Gathering the variable names for the object or categorical column\n",
    "##################################\n",
    "categorical_variable_name_list = heart_failure_object.columns"
   ]
  },
  {
   "cell_type": "code",
   "execution_count": 58,
   "id": "78534b5e-e2ea-4018-8dc1-e141d2285f74",
   "metadata": {},
   "outputs": [],
   "source": [
    "##################################\n",
    "# Gathering the first mode values for the object or categorical column\n",
    "##################################\n",
    "categorical_first_mode_list = [heart_failure[x].value_counts().index.tolist()[0] for x in heart_failure_object]"
   ]
  },
  {
   "cell_type": "code",
   "execution_count": 59,
   "id": "d2293b3c-617e-4497-b53f-4cc53057d7db",
   "metadata": {},
   "outputs": [],
   "source": [
    "##################################\n",
    "# Gathering the second mode values for each object or categorical column\n",
    "##################################\n",
    "categorical_second_mode_list = [heart_failure[x].value_counts().index.tolist()[1] for x in heart_failure_object]"
   ]
  },
  {
   "cell_type": "code",
   "execution_count": 60,
   "id": "994f9a79-5a4a-494f-bd30-095f4ad68a0e",
   "metadata": {},
   "outputs": [],
   "source": [
    "##################################\n",
    "# Gathering the count of first mode values for each object or categorical column\n",
    "##################################\n",
    "categorical_first_mode_count_list = [heart_failure_object[x].isin([heart_failure[x].value_counts(dropna=True).index.tolist()[0]]).sum() for x in heart_failure_object]"
   ]
  },
  {
   "cell_type": "code",
   "execution_count": 61,
   "id": "58478a5b-93f9-4339-92b1-530c3daa335f",
   "metadata": {},
   "outputs": [],
   "source": [
    "##################################\n",
    "# Gathering the count of second mode values for each object or categorical column\n",
    "##################################\n",
    "categorical_second_mode_count_list = [heart_failure_object[x].isin([heart_failure[x].value_counts(dropna=True).index.tolist()[1]]).sum() for x in heart_failure_object]"
   ]
  },
  {
   "cell_type": "code",
   "execution_count": 62,
   "id": "7bffc8ee-22c4-4e1f-befd-c93d3474973d",
   "metadata": {},
   "outputs": [],
   "source": [
    "##################################\n",
    "# Gathering the first mode to second mode ratio for each object or categorical column\n",
    "##################################\n",
    "categorical_first_second_mode_ratio_list = map(truediv, categorical_first_mode_count_list, categorical_second_mode_count_list)"
   ]
  },
  {
   "cell_type": "code",
   "execution_count": 63,
   "id": "c5c9f4f3-20bb-433a-b1a6-18a99865b6df",
   "metadata": {},
   "outputs": [],
   "source": [
    "##################################\n",
    "# Gathering the count of unique values for each object or categorical column\n",
    "##################################\n",
    "categorical_unique_count_list = heart_failure_object.nunique(dropna=True)"
   ]
  },
  {
   "cell_type": "code",
   "execution_count": 64,
   "id": "4f89a3ae-c14b-4c15-8e84-cb48fe24c680",
   "metadata": {},
   "outputs": [],
   "source": [
    "##################################\n",
    "# Gathering the number of observations for each object or categorical column\n",
    "##################################\n",
    "categorical_row_count_list = list([len(heart_failure_object)] * len(heart_failure_object.columns))"
   ]
  },
  {
   "cell_type": "code",
   "execution_count": 65,
   "id": "95e1dcd6-6711-4e15-a1b1-9728675078b8",
   "metadata": {},
   "outputs": [],
   "source": [
    "##################################\n",
    "# Gathering the unique to count ratio for each object or categorical column\n",
    "##################################\n",
    "categorical_unique_count_ratio_list = map(truediv, categorical_unique_count_list, categorical_row_count_list)"
   ]
  },
  {
   "cell_type": "code",
   "execution_count": 66,
   "id": "fa5f4377-e229-4c8e-a730-b076ff791c3f",
   "metadata": {},
   "outputs": [
    {
     "data": {
      "text/html": [
       "<div>\n",
       "<style scoped>\n",
       "    .dataframe tbody tr th:only-of-type {\n",
       "        vertical-align: middle;\n",
       "    }\n",
       "\n",
       "    .dataframe tbody tr th {\n",
       "        vertical-align: top;\n",
       "    }\n",
       "\n",
       "    .dataframe thead th {\n",
       "        text-align: right;\n",
       "    }\n",
       "</style>\n",
       "<table border=\"1\" class=\"dataframe\">\n",
       "  <thead>\n",
       "    <tr style=\"text-align: right;\">\n",
       "      <th></th>\n",
       "      <th>Categorical.Column.Name</th>\n",
       "      <th>First.Mode</th>\n",
       "      <th>Second.Mode</th>\n",
       "      <th>First.Mode.Count</th>\n",
       "      <th>Second.Mode.Count</th>\n",
       "      <th>First.Second.Mode.Ratio</th>\n",
       "      <th>Unique.Count</th>\n",
       "      <th>Row.Count</th>\n",
       "      <th>Unique.Count.Ratio</th>\n",
       "    </tr>\n",
       "  </thead>\n",
       "  <tbody>\n",
       "    <tr>\n",
       "      <th>0</th>\n",
       "      <td>ANAEMIA</td>\n",
       "      <td>Absent</td>\n",
       "      <td>Present</td>\n",
       "      <td>170</td>\n",
       "      <td>129</td>\n",
       "      <td>1.317829</td>\n",
       "      <td>2</td>\n",
       "      <td>299</td>\n",
       "      <td>0.006689</td>\n",
       "    </tr>\n",
       "    <tr>\n",
       "      <th>1</th>\n",
       "      <td>DIABETES</td>\n",
       "      <td>Absent</td>\n",
       "      <td>Present</td>\n",
       "      <td>174</td>\n",
       "      <td>125</td>\n",
       "      <td>1.392000</td>\n",
       "      <td>2</td>\n",
       "      <td>299</td>\n",
       "      <td>0.006689</td>\n",
       "    </tr>\n",
       "    <tr>\n",
       "      <th>2</th>\n",
       "      <td>HIGH_BLOOD_PRESSURE</td>\n",
       "      <td>Absent</td>\n",
       "      <td>Present</td>\n",
       "      <td>194</td>\n",
       "      <td>105</td>\n",
       "      <td>1.847619</td>\n",
       "      <td>2</td>\n",
       "      <td>299</td>\n",
       "      <td>0.006689</td>\n",
       "    </tr>\n",
       "    <tr>\n",
       "      <th>3</th>\n",
       "      <td>SEX</td>\n",
       "      <td>Male</td>\n",
       "      <td>Female</td>\n",
       "      <td>194</td>\n",
       "      <td>105</td>\n",
       "      <td>1.847619</td>\n",
       "      <td>2</td>\n",
       "      <td>299</td>\n",
       "      <td>0.006689</td>\n",
       "    </tr>\n",
       "    <tr>\n",
       "      <th>4</th>\n",
       "      <td>SMOKING</td>\n",
       "      <td>Absent</td>\n",
       "      <td>Present</td>\n",
       "      <td>203</td>\n",
       "      <td>96</td>\n",
       "      <td>2.114583</td>\n",
       "      <td>2</td>\n",
       "      <td>299</td>\n",
       "      <td>0.006689</td>\n",
       "    </tr>\n",
       "    <tr>\n",
       "      <th>5</th>\n",
       "      <td>DEATH_EVENT</td>\n",
       "      <td>0</td>\n",
       "      <td>1</td>\n",
       "      <td>203</td>\n",
       "      <td>96</td>\n",
       "      <td>2.114583</td>\n",
       "      <td>2</td>\n",
       "      <td>299</td>\n",
       "      <td>0.006689</td>\n",
       "    </tr>\n",
       "  </tbody>\n",
       "</table>\n",
       "</div>"
      ],
      "text/plain": [
       "  Categorical.Column.Name First.Mode Second.Mode  First.Mode.Count  \\\n",
       "0                 ANAEMIA     Absent     Present               170   \n",
       "1                DIABETES     Absent     Present               174   \n",
       "2     HIGH_BLOOD_PRESSURE     Absent     Present               194   \n",
       "3                     SEX       Male      Female               194   \n",
       "4                 SMOKING     Absent     Present               203   \n",
       "5             DEATH_EVENT          0           1               203   \n",
       "\n",
       "   Second.Mode.Count  First.Second.Mode.Ratio  Unique.Count  Row.Count  \\\n",
       "0                129                 1.317829             2        299   \n",
       "1                125                 1.392000             2        299   \n",
       "2                105                 1.847619             2        299   \n",
       "3                105                 1.847619             2        299   \n",
       "4                 96                 2.114583             2        299   \n",
       "5                 96                 2.114583             2        299   \n",
       "\n",
       "   Unique.Count.Ratio  \n",
       "0            0.006689  \n",
       "1            0.006689  \n",
       "2            0.006689  \n",
       "3            0.006689  \n",
       "4            0.006689  \n",
       "5            0.006689  "
      ]
     },
     "metadata": {},
     "output_type": "display_data"
    }
   ],
   "source": [
    "categorical_column_quality_summary = pd.DataFrame(zip(categorical_variable_name_list,\n",
    "                                                 categorical_first_mode_list,\n",
    "                                                 categorical_second_mode_list,\n",
    "                                                 categorical_first_mode_count_list,\n",
    "                                                 categorical_second_mode_count_list,\n",
    "                                                 categorical_first_second_mode_ratio_list,\n",
    "                                                 categorical_unique_count_list,\n",
    "                                                 categorical_row_count_list,\n",
    "                                                 categorical_unique_count_ratio_list), \n",
    "                                        columns=['Categorical.Column.Name',\n",
    "                                                 'First.Mode',\n",
    "                                                 'Second.Mode',\n",
    "                                                 'First.Mode.Count',\n",
    "                                                 'Second.Mode.Count',\n",
    "                                                 'First.Second.Mode.Ratio',\n",
    "                                                 'Unique.Count',\n",
    "                                                 'Row.Count',\n",
    "                                                 'Unique.Count.Ratio'])\n",
    "display(categorical_column_quality_summary)"
   ]
  },
  {
   "cell_type": "code",
   "execution_count": 67,
   "id": "9119682c-9d6e-42a0-a571-87e2679b5488",
   "metadata": {},
   "outputs": [
    {
     "data": {
      "text/plain": [
       "0"
      ]
     },
     "execution_count": 67,
     "metadata": {},
     "output_type": "execute_result"
    }
   ],
   "source": [
    "##################################\n",
    "# Counting the number of object or categorical columns\n",
    "# with First.Second.Mode.Ratio > 5.00\n",
    "##################################\n",
    "len(categorical_column_quality_summary[(categorical_column_quality_summary['First.Second.Mode.Ratio']>5)])"
   ]
  },
  {
   "cell_type": "code",
   "execution_count": 68,
   "id": "b8ae253a-2866-4217-8818-4405609109c4",
   "metadata": {},
   "outputs": [
    {
     "data": {
      "text/plain": [
       "0"
      ]
     },
     "execution_count": 68,
     "metadata": {},
     "output_type": "execute_result"
    }
   ],
   "source": [
    "##################################\n",
    "# Counting the number of object or categorical columns\n",
    "# with Unique.Count.Ratio > 10.00\n",
    "##################################\n",
    "len(categorical_column_quality_summary[(categorical_column_quality_summary['Unique.Count.Ratio']>10)])"
   ]
  },
  {
   "cell_type": "markdown",
   "id": "df57175b-264f-49fc-8905-b3d47a476919",
   "metadata": {},
   "source": [
    "## 1.4. Data Preprocessing <a class=\"anchor\" id=\"1.4\"></a>\n",
    "\n",
    "1. Data transformation and scaling is necessary to address excessive outliers and high skewness as observed on several numeric predictors:\n",
    "    * <span style=\"color: #FF0000\">CREATININE_PHOSPHOKINASE</span>: Skewness = +4.463, Outlier.Count = 29, Outlier.Ratio = 0.096\n",
    "    * <span style=\"color: #FF0000\">SERUM_CREATININE</span>: Skewness = +4.456, Outlier.Count = 29, Outlier Ratio = 0.096\n",
    "    * <span style=\"color: #FF0000\">PLATELETS</span>: Skewness = +1.462, Outlier.Count = 21, Outlier.Ratio = 0.070\n",
    "2. Most variables achieved symmetrical distributions with minimal outliers after evaluating a Yeo-Johnson transformation, except for:\n",
    "    * <span style=\"color: #FF0000\">PLATELETS</span>: Skewness = +1.155, Outlier.Count = 18, Outlier.Ratio = 0.060\n",
    "3. Among pairwise combinations of variables in the training subset, sufficiently high correlation values were observed but with no excessive multicollinearity noted:\n",
    "    * <span style=\"color: #FF0000\">TIME</span> and <span style=\"color: #FF0000\">DEATH_EVENT</span>: Point.Biserial.Correlation = -0.530\n",
    "    * <span style=\"color: #FF0000\">SMOKING</span> and <span style=\"color: #FF0000\">SEX</span>: Phi.Coefficient = +0.450\n",
    "    * <span style=\"color: #FF0000\">SERUM_CREATININE</span> and <span style=\"color: #FF0000\">DEATH_EVENT</span>: Point.Biserial.Correlation = +0.290\n",
    "    * <span style=\"color: #FF0000\">AGE</span> and <span style=\"color: #FF0000\">DEATH_EVENT</span>: Point.Biserial.Correlation = +0.250\n"
   ]
  },
  {
   "cell_type": "code",
   "execution_count": 69,
   "id": "f46f249b-19aa-434b-93a0-04d4ebec4a44",
   "metadata": {},
   "outputs": [
    {
     "data": {
      "text/html": [
       "<div>\n",
       "<style scoped>\n",
       "    .dataframe tbody tr th:only-of-type {\n",
       "        vertical-align: middle;\n",
       "    }\n",
       "\n",
       "    .dataframe tbody tr th {\n",
       "        vertical-align: top;\n",
       "    }\n",
       "\n",
       "    .dataframe thead th {\n",
       "        text-align: right;\n",
       "    }\n",
       "</style>\n",
       "<table border=\"1\" class=\"dataframe\">\n",
       "  <thead>\n",
       "    <tr style=\"text-align: right;\">\n",
       "      <th></th>\n",
       "      <th>AGE</th>\n",
       "      <th>ANAEMIA</th>\n",
       "      <th>CREATININE_PHOSPHOKINASE</th>\n",
       "      <th>DIABETES</th>\n",
       "      <th>EJECTION_FRACTION</th>\n",
       "      <th>HIGH_BLOOD_PRESSURE</th>\n",
       "      <th>PLATELETS</th>\n",
       "      <th>SERUM_CREATININE</th>\n",
       "      <th>SERUM_SODIUM</th>\n",
       "      <th>SEX</th>\n",
       "      <th>SMOKING</th>\n",
       "      <th>TIME</th>\n",
       "      <th>DEATH_EVENT</th>\n",
       "    </tr>\n",
       "  </thead>\n",
       "  <tbody>\n",
       "    <tr>\n",
       "      <th>0</th>\n",
       "      <td>75.0</td>\n",
       "      <td>0</td>\n",
       "      <td>582.0</td>\n",
       "      <td>0</td>\n",
       "      <td>20.0</td>\n",
       "      <td>1</td>\n",
       "      <td>265000.00</td>\n",
       "      <td>1.9</td>\n",
       "      <td>130.0</td>\n",
       "      <td>1</td>\n",
       "      <td>0</td>\n",
       "      <td>4.0</td>\n",
       "      <td>1</td>\n",
       "    </tr>\n",
       "    <tr>\n",
       "      <th>1</th>\n",
       "      <td>55.0</td>\n",
       "      <td>0</td>\n",
       "      <td>7861.0</td>\n",
       "      <td>0</td>\n",
       "      <td>38.0</td>\n",
       "      <td>0</td>\n",
       "      <td>263358.03</td>\n",
       "      <td>1.1</td>\n",
       "      <td>136.0</td>\n",
       "      <td>1</td>\n",
       "      <td>0</td>\n",
       "      <td>6.0</td>\n",
       "      <td>1</td>\n",
       "    </tr>\n",
       "    <tr>\n",
       "      <th>2</th>\n",
       "      <td>65.0</td>\n",
       "      <td>0</td>\n",
       "      <td>146.0</td>\n",
       "      <td>0</td>\n",
       "      <td>20.0</td>\n",
       "      <td>0</td>\n",
       "      <td>162000.00</td>\n",
       "      <td>1.3</td>\n",
       "      <td>129.0</td>\n",
       "      <td>1</td>\n",
       "      <td>1</td>\n",
       "      <td>7.0</td>\n",
       "      <td>1</td>\n",
       "    </tr>\n",
       "    <tr>\n",
       "      <th>3</th>\n",
       "      <td>50.0</td>\n",
       "      <td>1</td>\n",
       "      <td>111.0</td>\n",
       "      <td>0</td>\n",
       "      <td>20.0</td>\n",
       "      <td>0</td>\n",
       "      <td>210000.00</td>\n",
       "      <td>1.9</td>\n",
       "      <td>137.0</td>\n",
       "      <td>1</td>\n",
       "      <td>0</td>\n",
       "      <td>7.0</td>\n",
       "      <td>1</td>\n",
       "    </tr>\n",
       "    <tr>\n",
       "      <th>4</th>\n",
       "      <td>65.0</td>\n",
       "      <td>1</td>\n",
       "      <td>160.0</td>\n",
       "      <td>1</td>\n",
       "      <td>20.0</td>\n",
       "      <td>0</td>\n",
       "      <td>327000.00</td>\n",
       "      <td>2.7</td>\n",
       "      <td>116.0</td>\n",
       "      <td>0</td>\n",
       "      <td>0</td>\n",
       "      <td>8.0</td>\n",
       "      <td>1</td>\n",
       "    </tr>\n",
       "    <tr>\n",
       "      <th>...</th>\n",
       "      <td>...</td>\n",
       "      <td>...</td>\n",
       "      <td>...</td>\n",
       "      <td>...</td>\n",
       "      <td>...</td>\n",
       "      <td>...</td>\n",
       "      <td>...</td>\n",
       "      <td>...</td>\n",
       "      <td>...</td>\n",
       "      <td>...</td>\n",
       "      <td>...</td>\n",
       "      <td>...</td>\n",
       "      <td>...</td>\n",
       "    </tr>\n",
       "    <tr>\n",
       "      <th>294</th>\n",
       "      <td>62.0</td>\n",
       "      <td>0</td>\n",
       "      <td>61.0</td>\n",
       "      <td>1</td>\n",
       "      <td>38.0</td>\n",
       "      <td>1</td>\n",
       "      <td>155000.00</td>\n",
       "      <td>1.1</td>\n",
       "      <td>143.0</td>\n",
       "      <td>1</td>\n",
       "      <td>1</td>\n",
       "      <td>270.0</td>\n",
       "      <td>0</td>\n",
       "    </tr>\n",
       "    <tr>\n",
       "      <th>295</th>\n",
       "      <td>55.0</td>\n",
       "      <td>0</td>\n",
       "      <td>1820.0</td>\n",
       "      <td>0</td>\n",
       "      <td>38.0</td>\n",
       "      <td>0</td>\n",
       "      <td>270000.00</td>\n",
       "      <td>1.2</td>\n",
       "      <td>139.0</td>\n",
       "      <td>0</td>\n",
       "      <td>0</td>\n",
       "      <td>271.0</td>\n",
       "      <td>0</td>\n",
       "    </tr>\n",
       "    <tr>\n",
       "      <th>296</th>\n",
       "      <td>45.0</td>\n",
       "      <td>0</td>\n",
       "      <td>2060.0</td>\n",
       "      <td>1</td>\n",
       "      <td>60.0</td>\n",
       "      <td>0</td>\n",
       "      <td>742000.00</td>\n",
       "      <td>0.8</td>\n",
       "      <td>138.0</td>\n",
       "      <td>0</td>\n",
       "      <td>0</td>\n",
       "      <td>278.0</td>\n",
       "      <td>0</td>\n",
       "    </tr>\n",
       "    <tr>\n",
       "      <th>297</th>\n",
       "      <td>45.0</td>\n",
       "      <td>0</td>\n",
       "      <td>2413.0</td>\n",
       "      <td>0</td>\n",
       "      <td>38.0</td>\n",
       "      <td>0</td>\n",
       "      <td>140000.00</td>\n",
       "      <td>1.4</td>\n",
       "      <td>140.0</td>\n",
       "      <td>1</td>\n",
       "      <td>1</td>\n",
       "      <td>280.0</td>\n",
       "      <td>0</td>\n",
       "    </tr>\n",
       "    <tr>\n",
       "      <th>298</th>\n",
       "      <td>50.0</td>\n",
       "      <td>0</td>\n",
       "      <td>196.0</td>\n",
       "      <td>0</td>\n",
       "      <td>45.0</td>\n",
       "      <td>0</td>\n",
       "      <td>395000.00</td>\n",
       "      <td>1.6</td>\n",
       "      <td>136.0</td>\n",
       "      <td>1</td>\n",
       "      <td>1</td>\n",
       "      <td>285.0</td>\n",
       "      <td>0</td>\n",
       "    </tr>\n",
       "  </tbody>\n",
       "</table>\n",
       "<p>299 rows × 13 columns</p>\n",
       "</div>"
      ],
      "text/plain": [
       "      AGE ANAEMIA  CREATININE_PHOSPHOKINASE DIABETES  EJECTION_FRACTION  \\\n",
       "0    75.0       0                     582.0        0               20.0   \n",
       "1    55.0       0                    7861.0        0               38.0   \n",
       "2    65.0       0                     146.0        0               20.0   \n",
       "3    50.0       1                     111.0        0               20.0   \n",
       "4    65.0       1                     160.0        1               20.0   \n",
       "..    ...     ...                       ...      ...                ...   \n",
       "294  62.0       0                      61.0        1               38.0   \n",
       "295  55.0       0                    1820.0        0               38.0   \n",
       "296  45.0       0                    2060.0        1               60.0   \n",
       "297  45.0       0                    2413.0        0               38.0   \n",
       "298  50.0       0                     196.0        0               45.0   \n",
       "\n",
       "    HIGH_BLOOD_PRESSURE  PLATELETS  SERUM_CREATININE  SERUM_SODIUM SEX  \\\n",
       "0                     1  265000.00               1.9         130.0   1   \n",
       "1                     0  263358.03               1.1         136.0   1   \n",
       "2                     0  162000.00               1.3         129.0   1   \n",
       "3                     0  210000.00               1.9         137.0   1   \n",
       "4                     0  327000.00               2.7         116.0   0   \n",
       "..                  ...        ...               ...           ...  ..   \n",
       "294                   1  155000.00               1.1         143.0   1   \n",
       "295                   0  270000.00               1.2         139.0   0   \n",
       "296                   0  742000.00               0.8         138.0   0   \n",
       "297                   0  140000.00               1.4         140.0   1   \n",
       "298                   0  395000.00               1.6         136.0   1   \n",
       "\n",
       "    SMOKING   TIME DEATH_EVENT  \n",
       "0         0    4.0           1  \n",
       "1         0    6.0           1  \n",
       "2         1    7.0           1  \n",
       "3         0    7.0           1  \n",
       "4         0    8.0           1  \n",
       "..      ...    ...         ...  \n",
       "294       1  270.0           0  \n",
       "295       0  271.0           0  \n",
       "296       0  278.0           0  \n",
       "297       1  280.0           0  \n",
       "298       1  285.0           0  \n",
       "\n",
       "[299 rows x 13 columns]"
      ]
     },
     "metadata": {},
     "output_type": "display_data"
    }
   ],
   "source": [
    "#################################\n",
    "# Creating a dataset copy \n",
    "# for correlation analysis\n",
    "##################################\n",
    "heart_failure_correlation = heart_failure_original.copy()\n",
    "display(heart_failure_correlation)"
   ]
  },
  {
   "cell_type": "code",
   "execution_count": 70,
   "id": "856db381-6e98-4ce5-9008-75e495f175c8",
   "metadata": {},
   "outputs": [],
   "source": [
    "##################################\n",
    "# Initializing the correlation matrix\n",
    "##################################\n",
    "heart_failure_correlation_matrix = pd.DataFrame(np.zeros((len(heart_failure_correlation.columns), len(heart_failure_correlation.columns))),\n",
    "                                              columns=heart_failure_correlation.columns,\n",
    "                                              index=heart_failure_correlation.columns)"
   ]
  },
  {
   "cell_type": "code",
   "execution_count": 71,
   "id": "6a4e0f0e-c695-43d9-9bd1-798fb1f1086d",
   "metadata": {},
   "outputs": [],
   "source": [
    "##################################\n",
    "# Calculating different types\n",
    "# of correlation coefficients\n",
    "# per variable type\n",
    "##################################\n",
    "for i in range(len(heart_failure_correlation.columns)):\n",
    "    for j in range(i, len(heart_failure_correlation.columns)):\n",
    "        if i == j:\n",
    "            heart_failure_correlation_matrix.iloc[i, j] = 1.0\n",
    "        else:\n",
    "            if heart_failure_correlation.dtypes.iloc[i] == 'float64' and heart_failure_correlation.dtypes.iloc[j] == 'float64':\n",
    "                # Pearson correlation for two continuous variables\n",
    "                corr = heart_failure_correlation.iloc[:, i].corr(heart_failure_correlation.iloc[:, j])\n",
    "            elif heart_failure_correlation.dtypes.iloc[i] == 'int64' or heart_failure_correlation.dtypes.iloc[j] == 'int64':\n",
    "                # Point-biserial correlation for one continuous and one binary variable\n",
    "                continuous_var = heart_failure_correlation.iloc[:, i] if heart_failure_correlation.dtypes.iloc[i] == 'int64' else heart_failure_correlation.iloc[:, j]\n",
    "                binary_var = heart_failure_correlation.iloc[:, j] if heart_failure_correlation.dtypes.iloc[j] == 'int64' else heart_failure_correlation.iloc[:, i]\n",
    "                corr, _ = pointbiserialr(continuous_var, binary_var)\n",
    "            else:\n",
    "                # Phi coefficient for two binary variables\n",
    "                corr = heart_failure_correlation.iloc[:, i].corr(heart_failure_correlation.iloc[:, j])\n",
    "            heart_failure_correlation_matrix.iloc[i, j] = corr\n",
    "            heart_failure_correlation_matrix.iloc[j, i] = corr"
   ]
  },
  {
   "cell_type": "code",
   "execution_count": 72,
   "id": "1b200ecd-d391-45f0-ba91-f0df191d0ec9",
   "metadata": {},
   "outputs": [
    {
     "data": {
      "image/png": "[encoded data removed]",
      "text/plain": [
       "<Figure size 1700x800 with 2 Axes>"
      ]
     },
     "metadata": {},
     "output_type": "display_data"
    }
   ],
   "source": [
    "##################################\n",
    "# Plotting the correlation matrix\n",
    "# for all pairwise combinations\n",
    "# of numeric and categorical columns\n",
    "##################################\n",
    "plt.figure(figsize=(17, 8))\n",
    "sns.heatmap(heart_failure_correlation_matrix, annot=True, cmap='coolwarm', vmin=-1, vmax=1)\n",
    "plt.show()"
   ]
  },
  {
   "cell_type": "code",
   "execution_count": 73,
   "id": "d101cf32-0410-4604-86e8-a5653130be2f",
   "metadata": {},
   "outputs": [],
   "source": [
    "##################################\n",
    "# Formulating the dataset\n",
    "# with numeric columns only\n",
    "##################################\n",
    "heart_failure_numeric = heart_failure.select_dtypes(include=['number','int'])"
   ]
  },
  {
   "cell_type": "code",
   "execution_count": 74,
   "id": "1b7d7409-febd-448b-9451-86f1f3731132",
   "metadata": {},
   "outputs": [],
   "source": [
    "##################################\n",
    "# Gathering the variable names for each numeric column\n",
    "##################################\n",
    "numeric_variable_name_list = heart_failure_numeric.columns"
   ]
  },
  {
   "cell_type": "code",
   "execution_count": 75,
   "id": "31221ab2-e508-4f53-9590-66e0b4aff45d",
   "metadata": {},
   "outputs": [],
   "source": [
    "##################################\n",
    "# Gathering the skewness value for each numeric column\n",
    "##################################\n",
    "numeric_skewness_list = heart_failure_numeric.skew()"
   ]
  },
  {
   "cell_type": "code",
   "execution_count": 76,
   "id": "9082e100-a773-427a-aaf7-e42ff0e23a91",
   "metadata": {},
   "outputs": [],
   "source": [
    "##################################\n",
    "# Computing the interquartile range\n",
    "# for all columns\n",
    "##################################\n",
    "heart_failure_numeric_q1 = heart_failure_numeric.quantile(0.25)\n",
    "heart_failure_numeric_q3 = heart_failure_numeric.quantile(0.75)\n",
    "heart_failure_numeric_iqr = heart_failure_numeric_q3 - heart_failure_numeric_q1"
   ]
  },
  {
   "cell_type": "code",
   "execution_count": 77,
   "id": "9dbc19d4-99ea-4dff-b040-90dbe4c532f2",
   "metadata": {},
   "outputs": [],
   "source": [
    "##################################\n",
    "# Gathering the outlier count for each numeric column\n",
    "# based on the interquartile range criterion\n",
    "##################################\n",
    "numeric_outlier_count_list = ((heart_failure_numeric < (heart_failure_numeric_q1 - 1.5 * heart_failure_numeric_iqr)) | (heart_failure_numeric > (heart_failure_numeric_q3 + 1.5 * heart_failure_numeric_iqr))).sum()"
   ]
  },
  {
   "cell_type": "code",
   "execution_count": 78,
   "id": "dfe3d9d8-e336-47b6-a893-8da62dae9dcd",
   "metadata": {},
   "outputs": [],
   "source": [
    "##################################\n",
    "# Gathering the number of observations for each column\n",
    "##################################\n",
    "numeric_row_count_list = list([len(heart_failure_numeric)] * len(heart_failure_numeric.columns))"
   ]
  },
  {
   "cell_type": "code",
   "execution_count": 79,
   "id": "5e56150b-5977-4ce4-b06e-03d480ab8e10",
   "metadata": {},
   "outputs": [],
   "source": [
    "##################################\n",
    "# Gathering the unique to count ratio for each categorical column\n",
    "##################################\n",
    "numeric_outlier_ratio_list = map(truediv, numeric_outlier_count_list, numeric_row_count_list)"
   ]
  },
  {
   "cell_type": "code",
   "execution_count": 80,
   "id": "aa773bea-7a97-4576-8f8d-c0212f16dc8c",
   "metadata": {},
   "outputs": [
    {
     "data": {
      "text/html": [
       "<div>\n",
       "<style scoped>\n",
       "    .dataframe tbody tr th:only-of-type {\n",
       "        vertical-align: middle;\n",
       "    }\n",
       "\n",
       "    .dataframe tbody tr th {\n",
       "        vertical-align: top;\n",
       "    }\n",
       "\n",
       "    .dataframe thead th {\n",
       "        text-align: right;\n",
       "    }\n",
       "</style>\n",
       "<table border=\"1\" class=\"dataframe\">\n",
       "  <thead>\n",
       "    <tr style=\"text-align: right;\">\n",
       "      <th></th>\n",
       "      <th>Numeric.Column.Name</th>\n",
       "      <th>Skewness</th>\n",
       "      <th>Outlier.Count</th>\n",
       "      <th>Row.Count</th>\n",
       "      <th>Outlier.Ratio</th>\n",
       "    </tr>\n",
       "  </thead>\n",
       "  <tbody>\n",
       "    <tr>\n",
       "      <th>0</th>\n",
       "      <td>AGE</td>\n",
       "      <td>0.423062</td>\n",
       "      <td>0</td>\n",
       "      <td>299</td>\n",
       "      <td>0.000000</td>\n",
       "    </tr>\n",
       "    <tr>\n",
       "      <th>1</th>\n",
       "      <td>CREATININE_PHOSPHOKINASE</td>\n",
       "      <td>4.463110</td>\n",
       "      <td>29</td>\n",
       "      <td>299</td>\n",
       "      <td>0.096990</td>\n",
       "    </tr>\n",
       "    <tr>\n",
       "      <th>2</th>\n",
       "      <td>EJECTION_FRACTION</td>\n",
       "      <td>0.555383</td>\n",
       "      <td>2</td>\n",
       "      <td>299</td>\n",
       "      <td>0.006689</td>\n",
       "    </tr>\n",
       "    <tr>\n",
       "      <th>3</th>\n",
       "      <td>PLATELETS</td>\n",
       "      <td>1.462321</td>\n",
       "      <td>21</td>\n",
       "      <td>299</td>\n",
       "      <td>0.070234</td>\n",
       "    </tr>\n",
       "    <tr>\n",
       "      <th>4</th>\n",
       "      <td>SERUM_CREATININE</td>\n",
       "      <td>4.455996</td>\n",
       "      <td>29</td>\n",
       "      <td>299</td>\n",
       "      <td>0.096990</td>\n",
       "    </tr>\n",
       "    <tr>\n",
       "      <th>5</th>\n",
       "      <td>SERUM_SODIUM</td>\n",
       "      <td>-1.048136</td>\n",
       "      <td>4</td>\n",
       "      <td>299</td>\n",
       "      <td>0.013378</td>\n",
       "    </tr>\n",
       "    <tr>\n",
       "      <th>6</th>\n",
       "      <td>TIME</td>\n",
       "      <td>0.127803</td>\n",
       "      <td>0</td>\n",
       "      <td>299</td>\n",
       "      <td>0.000000</td>\n",
       "    </tr>\n",
       "  </tbody>\n",
       "</table>\n",
       "</div>"
      ],
      "text/plain": [
       "        Numeric.Column.Name  Skewness  Outlier.Count  Row.Count  Outlier.Ratio\n",
       "0                       AGE  0.423062              0        299       0.000000\n",
       "1  CREATININE_PHOSPHOKINASE  4.463110             29        299       0.096990\n",
       "2         EJECTION_FRACTION  0.555383              2        299       0.006689\n",
       "3                 PLATELETS  1.462321             21        299       0.070234\n",
       "4          SERUM_CREATININE  4.455996             29        299       0.096990\n",
       "5              SERUM_SODIUM -1.048136              4        299       0.013378\n",
       "6                      TIME  0.127803              0        299       0.000000"
      ]
     },
     "metadata": {},
     "output_type": "display_data"
    }
   ],
   "source": [
    "##################################\n",
    "# Formulating the outlier summary\n",
    "# for all numeric columns\n",
    "##################################\n",
    "numeric_column_outlier_summary = pd.DataFrame(zip(numeric_variable_name_list,\n",
    "                                                  numeric_skewness_list,\n",
    "                                                  numeric_outlier_count_list,\n",
    "                                                  numeric_row_count_list,\n",
    "                                                  numeric_outlier_ratio_list), \n",
    "                                        columns=['Numeric.Column.Name',\n",
    "                                                 'Skewness',\n",
    "                                                 'Outlier.Count',\n",
    "                                                 'Row.Count',\n",
    "                                                 'Outlier.Ratio'])\n",
    "display(numeric_column_outlier_summary)"
   ]
  },
  {
   "cell_type": "code",
   "execution_count": 81,
   "id": "e71e93ad-18d0-4727-9910-d6c9a35740a9",
   "metadata": {},
   "outputs": [
    {
     "data": {
      "image/png": "[encoded data removed]",
      "text/plain": [
       "<Figure size 1700x100 with 1 Axes>"
      ]
     },
     "metadata": {},
     "output_type": "display_data"
    },
    {
     "data": {
      "image/png": "[encoded data removed]",
      "text/plain": [
       "<Figure size 1700x100 with 1 Axes>"
      ]
     },
     "metadata": {},
     "output_type": "display_data"
    },
    {
     "data": {
      "image/png": "[encoded data removed]",
      "text/plain": [
       "<Figure size 1700x100 with 1 Axes>"
      ]
     },
     "metadata": {},
     "output_type": "display_data"
    },
    {
     "data": {
      "image/png": "[encoded data removed]",
      "text/plain": [
       "<Figure size 1700x100 with 1 Axes>"
      ]
     },
     "metadata": {},
     "output_type": "display_data"
    },
    {
     "data": {
      "image/png": "[encoded data removed]",
      "text/plain": [
       "<Figure size 1700x100 with 1 Axes>"
      ]
     },
     "metadata": {},
     "output_type": "display_data"
    },
    {
     "data": {
      "image/png": "[encoded data removed]",
      "text/plain": [
       "<Figure size 1700x100 with 1 Axes>"
      ]
     },
     "metadata": {},
     "output_type": "display_data"
    },
    {
     "data": {
      "image/png": "[encoded data removed]",
      "text/plain": [
       "<Figure size 1700x100 with 1 Axes>"
      ]
     },
     "metadata": {},
     "output_type": "display_data"
    }
   ],
   "source": [
    "##################################\n",
    "# Formulating the individual boxplots\n",
    "# for all numeric columns\n",
    "##################################\n",
    "for column in heart_failure_numeric:\n",
    "        plt.figure(figsize=(17,1))\n",
    "        sns.boxplot(data=heart_failure_numeric, x=column)"
   ]
  },
  {
   "cell_type": "code",
   "execution_count": 82,
   "id": "85b14180-9136-4b8f-b676-dbed8c2023a0",
   "metadata": {},
   "outputs": [],
   "source": [
    "##################################\n",
    "# Formulating the dataset\n",
    "# with numeric predictor columns only\n",
    "##################################\n",
    "heart_failure_numeric_predictor = heart_failure_numeric.drop('TIME', axis=1)"
   ]
  },
  {
   "cell_type": "code",
   "execution_count": 83,
   "id": "15e70d0c-db42-4afb-9d14-c560df3441eb",
   "metadata": {},
   "outputs": [],
   "source": [
    "##################################\n",
    "# Formulating the dataset\n",
    "# with categorical or object columns only\n",
    "##################################\n",
    "heart_failure_categorical = heart_failure_original.select_dtypes(include=['category','object'])"
   ]
  },
  {
   "cell_type": "code",
   "execution_count": 84,
   "id": "cbe36647-2785-45fd-a6f3-f363178399d5",
   "metadata": {},
   "outputs": [],
   "source": [
    "##################################\n",
    "# Evaluating a Yeo-Johnson Transformation\n",
    "# to address the distributional\n",
    "# shape of the variables\n",
    "##################################\n",
    "yeo_johnson_transformer = PowerTransformer(method='yeo-johnson',\n",
    "                                          standardize=True)\n",
    "heart_failure_numeric_predictor_transformed_array = yeo_johnson_transformer.fit_transform(heart_failure_numeric_predictor)"
   ]
  },
  {
   "cell_type": "code",
   "execution_count": 85,
   "id": "e82d40fc-77b4-4db2-ba58-057ff8190781",
   "metadata": {},
   "outputs": [],
   "source": [
    "##################################\n",
    "# Formulating a new dataset object\n",
    "# for the transformed data\n",
    "##################################\n",
    "heart_failure_numeric_predictor_transformed = pd.DataFrame(heart_failure_numeric_predictor_transformed_array,\n",
    "                                                           columns=heart_failure_numeric_predictor.columns)"
   ]
  },
  {
   "cell_type": "code",
   "execution_count": 86,
   "id": "8be41438-dcbf-4ac3-8051-dfb7c98af637",
   "metadata": {},
   "outputs": [
    {
     "data": {
      "image/png": "[encoded data removed]",
      "text/plain": [
       "<Figure size 1700x100 with 1 Axes>"
      ]
     },
     "metadata": {},
     "output_type": "display_data"
    },
    {
     "data": {
      "image/png": "[encoded data removed]",
      "text/plain": [
       "<Figure size 1700x100 with 1 Axes>"
      ]
     },
     "metadata": {},
     "output_type": "display_data"
    },
    {
     "data": {
      "image/png": "[encoded data removed]",
      "text/plain": [
       "<Figure size 1700x100 with 1 Axes>"
      ]
     },
     "metadata": {},
     "output_type": "display_data"
    },
    {
     "data": {
      "image/png": "[encoded data removed]",
      "text/plain": [
       "<Figure size 1700x100 with 1 Axes>"
      ]
     },
     "metadata": {},
     "output_type": "display_data"
    },
    {
     "data": {
      "image/png": "[encoded data removed]",
      "text/plain": [
       "<Figure size 1700x100 with 1 Axes>"
      ]
     },
     "metadata": {},
     "output_type": "display_data"
    },
    {
     "data": {
      "image/png": "[encoded data removed]",
      "text/plain": [
       "<Figure size 1700x100 with 1 Axes>"
      ]
     },
     "metadata": {},
     "output_type": "display_data"
    }
   ],
   "source": [
    "##################################\n",
    "# Formulating the individual boxplots\n",
    "# for all transformed numeric predictor columns\n",
    "##################################\n",
    "for column in heart_failure_numeric_predictor_transformed:\n",
    "        plt.figure(figsize=(17,1))\n",
    "        sns.boxplot(data=heart_failure_numeric_predictor_transformed, x=column)"
   ]
  },
  {
   "cell_type": "code",
   "execution_count": 87,
   "id": "e871005b-aa70-4da1-a29d-1a877ded994a",
   "metadata": {},
   "outputs": [
    {
     "data": {
      "text/html": [
       "<div>\n",
       "<style scoped>\n",
       "    .dataframe tbody tr th:only-of-type {\n",
       "        vertical-align: middle;\n",
       "    }\n",
       "\n",
       "    .dataframe tbody tr th {\n",
       "        vertical-align: top;\n",
       "    }\n",
       "\n",
       "    .dataframe thead th {\n",
       "        text-align: right;\n",
       "    }\n",
       "</style>\n",
       "<table border=\"1\" class=\"dataframe\">\n",
       "  <thead>\n",
       "    <tr style=\"text-align: right;\">\n",
       "      <th></th>\n",
       "      <th>Numeric.Column.Name</th>\n",
       "      <th>Skewness</th>\n",
       "      <th>Outlier.Count</th>\n",
       "      <th>Row.Count</th>\n",
       "      <th>Outlier.Ratio</th>\n",
       "    </tr>\n",
       "  </thead>\n",
       "  <tbody>\n",
       "    <tr>\n",
       "      <th>0</th>\n",
       "      <td>AGE</td>\n",
       "      <td>-0.000746</td>\n",
       "      <td>0</td>\n",
       "      <td>299</td>\n",
       "      <td>0.000000</td>\n",
       "    </tr>\n",
       "    <tr>\n",
       "      <th>1</th>\n",
       "      <td>CREATININE_PHOSPHOKINASE</td>\n",
       "      <td>0.044225</td>\n",
       "      <td>0</td>\n",
       "      <td>299</td>\n",
       "      <td>0.000000</td>\n",
       "    </tr>\n",
       "    <tr>\n",
       "      <th>2</th>\n",
       "      <td>EJECTION_FRACTION</td>\n",
       "      <td>-0.006637</td>\n",
       "      <td>2</td>\n",
       "      <td>299</td>\n",
       "      <td>0.006689</td>\n",
       "    </tr>\n",
       "    <tr>\n",
       "      <th>3</th>\n",
       "      <td>PLATELETS</td>\n",
       "      <td>0.155360</td>\n",
       "      <td>18</td>\n",
       "      <td>299</td>\n",
       "      <td>0.060201</td>\n",
       "    </tr>\n",
       "    <tr>\n",
       "      <th>4</th>\n",
       "      <td>SERUM_CREATININE</td>\n",
       "      <td>0.150380</td>\n",
       "      <td>1</td>\n",
       "      <td>299</td>\n",
       "      <td>0.003344</td>\n",
       "    </tr>\n",
       "    <tr>\n",
       "      <th>5</th>\n",
       "      <td>SERUM_SODIUM</td>\n",
       "      <td>0.082305</td>\n",
       "      <td>3</td>\n",
       "      <td>299</td>\n",
       "      <td>0.010033</td>\n",
       "    </tr>\n",
       "  </tbody>\n",
       "</table>\n",
       "</div>"
      ],
      "text/plain": [
       "        Numeric.Column.Name  Skewness  Outlier.Count  Row.Count  Outlier.Ratio\n",
       "0                       AGE -0.000746              0        299       0.000000\n",
       "1  CREATININE_PHOSPHOKINASE  0.044225              0        299       0.000000\n",
       "2         EJECTION_FRACTION -0.006637              2        299       0.006689\n",
       "3                 PLATELETS  0.155360             18        299       0.060201\n",
       "4          SERUM_CREATININE  0.150380              1        299       0.003344\n",
       "5              SERUM_SODIUM  0.082305              3        299       0.010033"
      ]
     },
     "metadata": {},
     "output_type": "display_data"
    }
   ],
   "source": [
    "##################################\n",
    "# Formulating the outlier summary\n",
    "# for all numeric predictor columns\n",
    "##################################\n",
    "numeric_variable_name_list = heart_failure_numeric_predictor_transformed.columns\n",
    "numeric_skewness_list = heart_failure_numeric_predictor_transformed.skew()\n",
    "heart_failure_numeric_predictor_transformed_q1 = heart_failure_numeric_predictor_transformed.quantile(0.25)\n",
    "heart_failure_numeric_predictor_transformed_q3 = heart_failure_numeric_predictor_transformed.quantile(0.75)\n",
    "heart_failure_numeric_predictor_transformed_iqr = heart_failure_numeric_predictor_transformed_q3 - heart_failure_numeric_predictor_transformed_q1\n",
    "numeric_outlier_count_list = ((heart_failure_numeric_predictor_transformed < (heart_failure_numeric_predictor_transformed_q1 - 1.5 * heart_failure_numeric_predictor_transformed_iqr)) | (heart_failure_numeric_predictor_transformed > (heart_failure_numeric_predictor_transformed_q3 + 1.5 * heart_failure_numeric_predictor_transformed_iqr))).sum()\n",
    "numeric_row_count_list = list([len(heart_failure_numeric_predictor_transformed)] * len(heart_failure_numeric_predictor_transformed.columns))\n",
    "numeric_outlier_ratio_list = map(truediv, numeric_outlier_count_list, numeric_row_count_list)\n",
    "\n",
    "numeric_column_outlier_summary = pd.DataFrame(zip(numeric_variable_name_list,\n",
    "                                                  numeric_skewness_list,\n",
    "                                                  numeric_outlier_count_list,\n",
    "                                                  numeric_row_count_list,\n",
    "                                                  numeric_outlier_ratio_list), \n",
    "                                        columns=['Numeric.Column.Name',\n",
    "                                                 'Skewness',\n",
    "                                                 'Outlier.Count',\n",
    "                                                 'Row.Count',\n",
    "                                                 'Outlier.Ratio'])\n",
    "display(numeric_column_outlier_summary)"
   ]
  },
  {
   "cell_type": "markdown",
   "id": "4761b92d-3c44-41ce-80b8-3ccb2bc30ffb",
   "metadata": {},
   "source": [
    "## 1.5. Data Exploration <a class=\"anchor\" id=\"1.5\"></a>"
   ]
  },
  {
   "cell_type": "markdown",
   "id": "8ea49440-5421-4ef7-ade6-b8b301929ece",
   "metadata": {},
   "source": [
    "### 1.5.1 Exploratory Data Analysis <a class=\"anchor\" id=\"1.5.1\"></a>"
   ]
  },
  {
   "cell_type": "markdown",
   "id": "730bfc1d-807d-450e-9285-ada4fd275c34",
   "metadata": {},
   "source": [
    "### 1.5.2 Hypothesis Testing <a class=\"anchor\" id=\"1.5.2\"></a>"
   ]
  },
  {
   "cell_type": "markdown",
   "id": "3d4c0339-1141-4156-b025-b7ae7b6a8da0",
   "metadata": {},
   "source": [
    "## 1.6. Predictive Model Development <a class=\"anchor\" id=\"1.6\"></a>"
   ]
  },
  {
   "cell_type": "markdown",
   "id": "002db35e-f23b-4b0c-8b40-9c18cad295d2",
   "metadata": {},
   "source": [
    "### 1.6.1 Pre-Modelling Data Preparation <a class=\"anchor\" id=\"1.6.1\"></a>"
   ]
  },
  {
   "cell_type": "markdown",
   "id": "91e51125-c662-47a6-aa98-c2a1d2eb6771",
   "metadata": {},
   "source": [
    "### 1.6.2 Data Splitting <a class=\"anchor\" id=\"1.6.2\"></a>"
   ]
  },
  {
   "cell_type": "markdown",
   "id": "c4494f8b-8905-427e-b8ec-641042729e94",
   "metadata": {},
   "source": [
    "### 1.6.3 Modelling Pipeline Development <a class=\"anchor\" id=\"1.6.3\"></a>"
   ]
  },
  {
   "cell_type": "markdown",
   "id": "9033cb0c-a6c4-4467-ad70-32bfb8a2ed84",
   "metadata": {},
   "source": [
    "### 1.6.4 Semi-Parametric Model Fitting | Hyperparameter Tuning | Validation <a class=\"anchor\" id=\"1.6.4\"></a>"
   ]
  },
  {
   "cell_type": "markdown",
   "id": "40fa2163-598c-47be-b64e-794b27013cc1",
   "metadata": {},
   "source": [
    "### 1.6.5 Model Fitting using Original Training Data | Hyperparameter Tuning | Validation <a class=\"anchor\" id=\"1.6.5\"></a>"
   ]
  },
  {
   "cell_type": "markdown",
   "id": "45bb216e-d02d-4df9-8a73-8108ffd76356",
   "metadata": {},
   "source": [
    "### 1.6.6 Model Selection <a class=\"anchor\" id=\"1.6.6\"></a>"
   ]
  },
  {
   "cell_type": "markdown",
   "id": "37b1a60a-ea89-467c-9efd-70e3e15c6551",
   "metadata": {},
   "source": [
    "### 1.6.7 Model Testing <a class=\"anchor\" id=\"1.6.7\"></a>"
   ]
  },
  {
   "cell_type": "markdown",
   "id": "5dbdfaa5-75f0-40dc-9ca5-0d670ca5f560",
   "metadata": {},
   "source": [
    "### 1.6.8 Model Inference <a class=\"anchor\" id=\"1.6.8\"></a>"
   ]
  },
  {
   "cell_type": "markdown",
   "id": "a31d3a76-ee9e-4d78-8d46-a9f4f1be9ff2",
   "metadata": {},
   "source": [
    "## 1.7. Predictive Model Deployment Using Streamlit and Streamlit Community Cloud <a class=\"anchor\" id=\"1.7\"></a>"
   ]
  },
  {
   "cell_type": "markdown",
   "id": "de3395d1-15de-4a20-a1b7-3e14185bd91a",
   "metadata": {},
   "source": [
    "### 1.7.1 Model Prediction Application Code Development <a class=\"anchor\" id=\"1.7.1\"></a>"
   ]
  },
  {
   "cell_type": "markdown",
   "id": "451fd9e4-0290-4d33-bb0f-56058571d128",
   "metadata": {},
   "source": [
    "### 1.7.2 Model Application Programming Interface Code Development <a class=\"anchor\" id=\"1.7.2\"></a>"
   ]
  },
  {
   "cell_type": "markdown",
   "id": "c178d661-27e4-4714-8c4d-86f39f166081",
   "metadata": {},
   "source": [
    "### 1.7.3 User Interface Application Code Development <a class=\"anchor\" id=\"1.7.3\"></a>"
   ]
  },
  {
   "cell_type": "markdown",
   "id": "ff5ffe53-c63e-480d-87ff-486b571cc817",
   "metadata": {},
   "source": [
    "### 1.7.4 Web Application <a class=\"anchor\" id=\"1.7.4\"></a>"
   ]
  },
  {
   "cell_type": "markdown",
   "id": "16f27024-a6c6-46ae-8f1c-956913c2f4ff",
   "metadata": {},
   "source": [
    "# 2. Summary <a class=\"anchor\" id=\"Summary\"></a>"
   ]
  },
  {
   "cell_type": "markdown",
   "id": "1a6bb64a-4fc6-400f-829c-2c35ea91e9ea",
   "metadata": {},
   "source": [
    "# 3. References <a class=\"anchor\" id=\"References\"></a>"
   ]
  },
  {
   "cell_type": "markdown",
   "id": "e00ef7c2-740e-4f3d-87ff-6d6368b610c5",
   "metadata": {},
   "source": [
    "\n",
    "* **[Book]** [Clinical Prediction Models](http://clinicalpredictionmodels.org/) by Ewout Steyerberg\n",
    "* **[Book]** [Survival Analysis: A Self-Learning Text](https://link.springer.com/book/10.1007/978-1-4419-6646-9/) by David Kleinbaum and Mitchel Klein\n",
    "* **[Book]** [Applied Survival Analysis Using R](https://link.springer.com/book/10.1007/978-3-319-31245-3/) by Dirk Moore\n",
    "* **[Book]** [Survival Analysis with Python](https://www.taylorfrancis.com/books/mono/10.1201/9781003255499/survival-analysis-python-avishek-nag) by Avishek Nag\n",
    "* **[Python Library API]** [SciKit-Survival](https://pypi.org/project/scikit-survival/) by SciKit-Survival Team\n",
    "* **[Python Library API]** [SciKit-Learn](https://scikit-learn.org/stable/index.html) by SciKit-Learn Team\n",
    "* **[Python Library API]** [StatsModels](https://www.statsmodels.org/stable/index.html) by StatsModels Team\n",
    "* **[Python Library API]** [SciPy](https://scipy.org/) by SciPy Team\n",
    "* **[Python Library API]** [Lifelines](https://lifelines.readthedocs.io/en/latest/) by Lifelines Team\n",
    "* **[Kaggle Project]** [Applied Reliability, Solutions To Problems](https://www.kaggle.com/code/keenanzhuo/applied-reliability-solutions-to-problems) by Keenan Zhuo (Kaggle)\n",
    "* **[Kaggle Project]** [Survival Models VS ML Models Benchmark - Churn Tel](https://www.kaggle.com/code/caralosal/survival-models-vs-ml-models-benchmark-churn-tel) by Carlos Alonso Salcedo (Kaggle)\n",
    "* **[Kaggle Project]** [Survival Analysis with Cox Model Implementation](https://www.kaggle.com/code/bryanb/survival-analysis-with-cox-model-implementation/notebook) by Bryan Boulé (Kaggle)\n",
    "* **[Kaggle Project]** [Survival Analysis](https://www.kaggle.com/code/gunesevitan/survival-analysis/notebook) by Gunes Evitan (Kaggle)\n",
    "* **[Kaggle Project]** [Survival Analysis of Lung Cancer Patients](https://www.kaggle.com/code/bryanb/survival-analysis-with-cox-model-implementation/notebook) by Sayan Chakraborty (Kaggle)\n",
    "* **[Kaggle Project]** [COVID-19 Cox Survival Regression](https://www.kaggle.com/code/bryanb/survival-analysis-with-cox-model-implementation/notebook) by Ilias Katsabalos (Kaggle)\n",
    "* **[Kaggle Project]** [Liver Cirrhosis Prediction with XGboost & EDA](https://www.kaggle.com/code/arjunbhaybhang/liver-cirrhosis-prediction-with-xgboost-eda) by Arjun Bhaybang (Kaggle)\n",
    "* **[Article]** [Exploring Time-to-Event with Survival Analysis](https://towardsdatascience.com/exploring-time-to-event-with-survival-analysis-8b0a7a33a7be) by Olivia Tanuwidjaja (Towards Data Science)\n",
    "* **[Article]** [The Complete Introduction to Survival Analysis in Python](https://towardsdatascience.com/the-complete-introduction-to-survival-analysis-in-python-7523e17737e6) by Marco Peixeiro (Towards Data Science)\n",
    "* **[Article]** [Survival Analysis Simplified: Explaining and Applying with Python](https://medium.com/@zynp.atlii/survival-analysis-simplified-explaining-and-applying-with-python-7efacf86ba32) by Zeynep Atli (Towards Data Science)\n",
    "* **[Article]** [Survival Analysis in Python (KM Estimate, Cox-PH and AFT Model)](https://medium.com/the-researchers-guide/survival-analysis-in-python-km-estimate-cox-ph-and-aft-model-5533843c5d5d) by Rahul Raoniar (Medium)\n",
    "* **[Article]** [How to Evaluate Survival Analysis Models)](https://towardsdatascience.com/how-to-evaluate-survival-analysis-models-dd67bc10caae) by Nicolo Cosimo Albanese (Towards Data Science)\n",
    "* **[Article]** [Survival Analysis with Python Tutorial — How, What, When, and Why)](https://pub.towardsai.net/survival-analysis-with-python-tutorial-how-what-when-and-why-19a5cfb3c312) by Towards AI Team (Medium)\n",
    "* **[Article]** [Survival Analysis: Predict Time-To-Event With Machine Learning)](https://towardsdatascience.com/survival-analysis-predict-time-to-event-with-machine-learning-part-i-ba52f9ab9a46) by Lina Faik (Medium)\n",
    "* **[Article]** [A Complete Guide To Survival Analysis In Python, Part 1](https://www.kdnuggets.com/2020/07/complete-guide-survival-analysis-python-part1.html) by Pratik Shukla (KDNuggets)\n",
    "* **[Article]** [A Complete Guide To Survival Analysis In Python, Part 2](https://www.kdnuggets.com/2020/07/guide-survival-analysis-python-part-2.html) by Pratik Shukla (KDNuggets)\n",
    "* **[Article]** [A Complete Guide To Survival Analysis In Python, Part 3](https://www.kdnuggets.com/2020/07/guide-survival-analysis-python-part-3.html) by Pratik Shukla (KDNuggets)\n",
    "* **[Article]** [Model Explainability using SHAP (SHapley Additive exPlanations) and LIME (Local Interpretable Model-agnostic Explanations)](https://medium.com/@anshulgoel991/model-exploitability-using-shap-shapley-additive-explanations-and-lime-local-interpretable-cb4f5594fc1a) by Anshul Goel (Medium)\n",
    "* **[Article]** [A Comprehensive Guide into SHAP (SHapley Additive exPlanations) Values](https://www.kdnuggets.com/2020/07/guide-survival-analysis-python-part-3.html) by Brain John Aboze (DeepChecks.Com)\n",
    "* **[Article]** [SHAP - Understanding How This Method for Explainable AI Works](https://safjan.com/how-the-shap-method-for-explainable-ai-works/#google_vignette) by Krystian Safjan (Safjan.Com)\n",
    "* **[Article]** [SHAP: Shapley Additive Explanations](https://towardsdatascience.com/shap-shapley-additive-explanations-5a2a271ed9c3) by Fernando Lopez (Medium)\n",
    "* **[Article]** [Explainable Machine Learning, Game Theory, and Shapley Values: A technical review](https://www.kdnuggets.com/2020/07/guide-survival-analysis-python-part-3.html) by Soufiane Fadel (Statistics Canada)\n",
    "* **[Article]** [SHAP Values Explained Exactly How You Wished Someone Explained to You](https://towardsdatascience.com/shap-explained-the-way-i-wish-someone-explained-it-to-me-ab81cc69ef30) by Samuele Mazzanti (Towards Data Science)\n",
    "* **[Article]** [Explaining Machine Learning Models: A Non-Technical Guide to Interpreting SHAP Analyses](https://www.aidancooper.co.uk/a-non-technical-guide-to-interpreting-shap-analyses/) by Aidan Cooper (AidanCooper.Co.UK)\n",
    "* **[Article]** [Shapley Additive Explanations: Unveiling the Black Box of Machine Learning](https://python.plainenglish.io/shapley-additive-explanations-unveiling-the-black-box-of-machine-learning-477ba01ffa07) by Evertone Gomede (Medium)\n",
    "* **[Article]** [SHAP (SHapley Additive exPlanations)](https://www.nerd-data.com/shap/) by Narut Soontranon (Nerd-Data.Com)\n",
    "* **[Article]** [Survival Analysis](https://quantdev.ssri.psu.edu/resources/survival-analysis) by Jessica Lougheed and Lizbeth Benson (QuantDev.SSRI.PSU.Edu)\n",
    "* **[Article]** [Part 1: How to Format Data for Several Types of Survival Analysis Models](https://quantdev.ssri.psu.edu/tutorials/part-1-how-format-data-several-types-survival-analysis-models) by Jessica Lougheed and Lizbeth Benson (QuantDev.SSRI.PSU.Edu)\n",
    "* **[Article]** [Part 2: Single-Episode Cox Regression Model with Time-Invariant Predictors](https://quantdev.ssri.psu.edu/tutorials/part-2-single-episode-cox-regression-model-time-invariant-predictors) by Jessica Lougheed and Lizbeth Benson (QuantDev.SSRI.PSU.Edu)\n",
    "* **[Article]** [Part 3: Single-Episode Cox Regression Model with Time-Varying Predictors](https://quantdev.ssri.psu.edu/tutorials/part-3-single-episode-cox-regression-model-time-varying-predictors) by Jessica Lougheed and Lizbeth Benson (QuantDev.SSRI.PSU.Edu)\n",
    "* **[Article]** [Part 4: Recurring-Episode Cox Regression Model with Time-Invariant Predictors](https://quantdev.ssri.psu.edu/tutorials/part-4-recurring-episode-cox-regression-model-time-invariant-predictors) by Jessica Lougheed and Lizbeth Benson (QuantDev.SSRI.PSU.Edu)\n",
    "* **[Article]** [Part 5: Recurring-Episode Cox Regression Model with Time-Varying Predictors](https://quantdev.ssri.psu.edu/tutorials/part-5-recurring-episode-cox-regression-model-time-varying-predictors) by Jessica Lougheed and Lizbeth Benson (QuantDev.SSRI.PSU.Edu)\n",
    "* **[Article]** [Parametric Survival Modeling](https://devinincerti.com/2019/06/18/parametric_survival.html) by Devin Incerti (DevinIncerti.Com)\n",
    "* **[Article]** [Survival Analysis Simplified: Explaining and Applying with Python](https://medium.com/@zynp.atlii/survival-analysis-simplified-explaining-and-applying-with-python-7efacf86ba32) by Zeynep Atli (Medium)\n",
    "* **[Article]** [Understanding Survival Analysis Models: Bridging the Gap between Parametric and Semiparametric Approaches](https://medium.com/@zynp.atlii/understanding-survival-analysis-models-bridging-the-gap-between-parametric-and-semiparametric-923cdcfc9f05) by Zeynep Atli (Medium)\n",
    "* **[Article]** [Survival Modeling — Accelerated Failure Time — XGBoost](https://towardsdatascience.com/survival-modeling-accelerated-failure-time-xgboost-971aaa1ba794) by Avinash Barnwal (Medium)\n",
    "* **[Publication]** [Regression Models and Life Tables](https://rss.onlinelibrary.wiley.com/doi/abs/10.1111/j.2517-6161.1972.tb00899.x) by David Cox (Royal Statistical Society)\n",
    "* **[Publication]** [Covariance Analysis of Censored Survival Data](https://pubmed.ncbi.nlm.nih.gov/4813387/) by Norman Breslow (Biometrics)\n",
    "* **[Publication]** [The Efficiency of Cox’s Likelihood Function for Censored Data](https://www.jstor.org/stable/2286217) by Bradley Efron (Journal of the American Statistical Association)\n",
    "* **[Publication]** [Regularization Paths for Cox’s Proportional Hazards Model via Coordinate Descent](https://doi.org/10.18637/jss.v039.i05) by Noah Simon, Jerome Friedman, Trevor Hastie and Rob Tibshirani (Journal of Statistical Software)\n",
    "* **[Publication]** [Shapley Additive Explanations](https://dl.acm.org/doi/10.5555/1756006.1756007) by Noah Simon, Jerome Friedman, Trevor Hastie and Rob Tibshirani (Journal of Statistical Software) by Erik Strumbelj and Igor Kononenko (The Journal of Machine Learning Research)\n",
    "* **[Publication]** [A Unified Approach to Interpreting Model Predictions](https://proceedings.neurips.cc/paper_files/paper/2017/file/8a20a8621978632d76c43dfd28b67767-Paper.pdf) by Scott Lundberg and Sun-In Lee (Conference on Neural Information Processing Systems)\n",
    "* **[Publication]** [Survival Analysis Part I: Basic Concepts and First Analyses](https://www.ncbi.nlm.nih.gov/pmc/articles/PMC2394262/) by Taane Clark (British Journal of Cancer)\n",
    "* **[Publication]** [Survival Analysis Part II: Multivariate Data Analysis – An Introduction to Concepts and Methods](https://www.ncbi.nlm.nih.gov/pmc/articles/PMC2394368/) by Mike Bradburn (British Journal of Cancer)\n",
    "* **[Publication]** [Survival Analysis Part III: Multivariate Data Analysis – Choosing a Model and Assessing its Adequacy and Fit](https://www.ncbi.nlm.nih.gov/pmc/articles/PMC2376927/) by Mike Bradburn (British Journal of Cancer)\n",
    "* **[Publication]** [Survival Analysis Part IV: Further Concepts and Methods in Survival Analysis](https://www.ncbi.nlm.nih.gov/pmc/articles/PMC2394469/) by Taane Clark (British Journal of Cancer)\n",
    "* **[Publication]** [Marginal Likelihoods Based on Cox's Regression and Life Model](https://www.jstor.org/stable/2334538) by Jack Kalbfleisch and Ross Prentice (Biometrika)\n",
    "* **[Publication]** [Hazard Rate Models with Covariates](https://www.jstor.org/stable/2529934) by Jack Kalbfleisch and Ross Prentice (Biometrics)\n",
    "* **[Publication]** [Linear Regression with Censored Data](https://www.jstor.org/stable/2335161) by Jonathan Buckley and Ian James (Biometrika)\n",
    "* **[Publication]** [A Statistical Distribution Function of Wide Applicability](https://www.semanticscholar.org/paper/A-Statistical-Distribution-Function-of-Wide-Weibull/88c37770028e7ed61180a34d6a837a9a4db3b264) by Waloddi Weibull (Journal of Applied Mechanics)\n",
    "* **[Publication]** [Exponential Survivals with Censoring and Explanatory Variables](https://www.jstor.org/stable/2334539) by Ross Prentice (Biometrika)\n",
    "* **[Publication]** [The Lognormal Distribution, with Special Reference to its Uses in Economics](https://www.semanticscholar.org/paper/The-Lognormal-Distribution%2C-with-Special-Reference-Corlett-Aitchison/1f59c53ff512fa77e7aee5e6d98b1786c2aaf129) by John Aitchison and James Brown (Economics Applied Statistics)\n",
    "* **[Course]** [Survival Analysis in Python](https://app.datacamp.com/learn/courses/survival-analysis-in-python) by Shae Wang (DataCamp)"
   ]
  },
  {
   "cell_type": "code",
   "execution_count": 88,
   "id": "af14bfb0-22ee-4482-8df6-5854be5ca81a",
   "metadata": {},
   "outputs": [
    {
     "data": {
      "text/html": [
       "<style>.rendered_html { font-size: 15px; font-family: 'Trebuchet MS'; }</style>"
      ],
      "text/plain": [
       "<IPython.core.display.HTML object>"
      ]
     },
     "metadata": {},
     "output_type": "display_data"
    }
   ],
   "source": [
    "from IPython.display import display, HTML\n",
    "display(HTML(\"<style>.rendered_html { font-size: 15px; font-family: 'Trebuchet MS'; }</style>\"))"
   ]
  }
 ],
 "metadata": {
  "kernelspec": {
   "display_name": "Python 3 (ipykernel)",
   "language": "python",
   "name": "python3"
  },
  "language_info": {
   "codemirror_mode": {
    "name": "ipython",
    "version": 3
   },
   "file_extension": ".py",
   "mimetype": "text/x-python",
   "name": "python",
   "nbconvert_exporter": "python",
   "pygments_lexer": "ipython3",
   "version": "3.12.5"
  }
 },
 "nbformat": 4,
 "nbformat_minor": 5
}
