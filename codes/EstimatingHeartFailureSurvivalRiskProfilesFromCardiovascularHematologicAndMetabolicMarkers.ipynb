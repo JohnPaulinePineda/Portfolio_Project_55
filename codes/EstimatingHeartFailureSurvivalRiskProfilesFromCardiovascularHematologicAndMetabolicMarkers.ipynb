{
 "cells": [
  {
   "cell_type": "markdown",
   "id": "8ca824fc-127b-435f-8c2b-0a0253ec17d1",
   "metadata": {},
   "source": [
    "***\n",
    "# Model Deployment : Estimating Heart Failure Survival Risk Profiles From Cardiovascular, Hematologic And Metabolic Markers"
   ]
  },
  {
   "cell_type": "markdown",
   "id": "1e87a39c-b8a3-429c-958c-fa629890307f",
   "metadata": {},
   "source": [
    "***\n",
    "### John Pauline Pineda <br> <br> *September 21, 2024*\n",
    "***"
   ]
  },
  {
   "cell_type": "markdown",
   "id": "6f28c3ed-eef4-47e2-ac59-ff98b1dd9505",
   "metadata": {},
   "source": [
    "* [**1. Table of Contents**](#TOC)\n",
    "    * [1.1 Data Background](#1.1)\n",
    "    * [1.2 Data Description](#1.2)\n",
    "    * [1.3 Data Quality Assessment](#1.3)\n",
    "    * [1.4 Data Preprocessing](#1.4)\n",
    "    * [1.5 Data Exploration](#1.5)\n",
    "        * [1.5.1 Exploratory Data Analysis](#1.5.1)\n",
    "        * [1.5.2 Hypothesis Testing](#1.5.2)\n",
    "    * [1.6 Predictive Model Development](#1.6)\n",
    "        * [1.6.1 Pre-Modelling Data Preparation](#1.6.1)\n",
    "        * [1.6.2 Data Splitting](#1.6.2)\n",
    "        * [1.6.3 Modelling Pipeline Development](#1.6.3)\n",
    "        * [1.6.4 Semi-Parametric Model Fitting | Hyperparameter Tuning | Validation](#1.6.4)\n",
    "        * [1.6.5 Parametric Model Fitting | Hyperparameter Tuning | Validation](#1.6.5)\n",
    "        * [1.6.6 Model Selection](#1.6.7)\n",
    "        * [1.6.7 Model Testing](#1.6.8)\n",
    "        * [1.6.8 Model Inference](#1.6.9)\n",
    "    * [1.7 Predictive Model Deployment Using Streamlit and Streamlit Community Cloud](#1.7)\n",
    "        * [1.7.1 Model Prediction Application Code Development](#1.7.1)\n",
    "        * [1.7.2 Model Application Programming Interface Code Development](#1.7.2)\n",
    "        * [1.7.3 User Interface Application Code Development](#1.7.3)\n",
    "        * [1.7.4 Web Application](#1.7.4)\n",
    "* [**2. Summary**](#Summary)   \n",
    "* [**3. References**](#References)\n",
    "\n",
    "***"
   ]
  },
  {
   "cell_type": "markdown",
   "id": "ac7a83df-a706-44a2-8d92-b2892610feca",
   "metadata": {},
   "source": [
    "# 1. Table of Contents <a class=\"anchor\" id=\"TOC\"></a>"
   ]
  },
  {
   "cell_type": "markdown",
   "id": "f673dd1c-3a5d-451a-941c-127b6cc56565",
   "metadata": {},
   "source": [
    "## 1.1. Data Background <a class=\"anchor\" id=\"1.1\"></a>"
   ]
  },
  {
   "cell_type": "markdown",
   "id": "51551929-fe02-4d5b-9e6f-380bdfd1d746",
   "metadata": {},
   "source": [
    "## 1.2. Data Description <a class=\"anchor\" id=\"1.2\"></a>"
   ]
  },
  {
   "cell_type": "markdown",
   "id": "57759e48-85e1-4e65-97b2-3dfd6b456a07",
   "metadata": {},
   "source": [
    "## 1.3. Data Quality Assessment <a class=\"anchor\" id=\"1.3\"></a>"
   ]
  },
  {
   "cell_type": "markdown",
   "id": "df57175b-264f-49fc-8905-b3d47a476919",
   "metadata": {},
   "source": [
    "## 1.4. Data Preprocessing <a class=\"anchor\" id=\"1.4\"></a>"
   ]
  },
  {
   "cell_type": "markdown",
   "id": "4761b92d-3c44-41ce-80b8-3ccb2bc30ffb",
   "metadata": {},
   "source": [
    "## 1.5. Data Exploration <a class=\"anchor\" id=\"1.5\"></a>"
   ]
  },
  {
   "cell_type": "markdown",
   "id": "8ea49440-5421-4ef7-ade6-b8b301929ece",
   "metadata": {},
   "source": [
    "### 1.5.1 Exploratory Data Analysis <a class=\"anchor\" id=\"1.5.1\"></a>"
   ]
  },
  {
   "cell_type": "markdown",
   "id": "730bfc1d-807d-450e-9285-ada4fd275c34",
   "metadata": {},
   "source": [
    "### 1.5.2 Hypothesis Testing <a class=\"anchor\" id=\"1.5.2\"></a>"
   ]
  },
  {
   "cell_type": "markdown",
   "id": "3d4c0339-1141-4156-b025-b7ae7b6a8da0",
   "metadata": {},
   "source": [
    "## 1.6. Predictive Model Development <a class=\"anchor\" id=\"1.6\"></a>"
   ]
  },
  {
   "cell_type": "markdown",
   "id": "002db35e-f23b-4b0c-8b40-9c18cad295d2",
   "metadata": {},
   "source": [
    "### 1.6.1 Pre-Modelling Data Preparation <a class=\"anchor\" id=\"1.6.1\"></a>"
   ]
  },
  {
   "cell_type": "markdown",
   "id": "91e51125-c662-47a6-aa98-c2a1d2eb6771",
   "metadata": {},
   "source": [
    "### 1.6.2 Data Splitting <a class=\"anchor\" id=\"1.6.2\"></a>"
   ]
  },
  {
   "cell_type": "markdown",
   "id": "c4494f8b-8905-427e-b8ec-641042729e94",
   "metadata": {},
   "source": [
    "### 1.6.3 Modelling Pipeline Development <a class=\"anchor\" id=\"1.6.3\"></a>"
   ]
  },
  {
   "cell_type": "markdown",
   "id": "9033cb0c-a6c4-4467-ad70-32bfb8a2ed84",
   "metadata": {},
   "source": [
    "### 1.6.4 Semi-Parametric Model Fitting | Hyperparameter Tuning | Validation <a class=\"anchor\" id=\"1.6.4\"></a>"
   ]
  },
  {
   "cell_type": "markdown",
   "id": "40fa2163-598c-47be-b64e-794b27013cc1",
   "metadata": {},
   "source": [
    "### 1.6.5 Model Fitting using Original Training Data | Hyperparameter Tuning | Validation <a class=\"anchor\" id=\"1.6.5\"></a>"
   ]
  },
  {
   "cell_type": "markdown",
   "id": "45bb216e-d02d-4df9-8a73-8108ffd76356",
   "metadata": {},
   "source": [
    "### 1.6.6 Model Selection <a class=\"anchor\" id=\"1.6.6\"></a>"
   ]
  },
  {
   "cell_type": "markdown",
   "id": "37b1a60a-ea89-467c-9efd-70e3e15c6551",
   "metadata": {},
   "source": [
    "### 1.6.7 Model Testing <a class=\"anchor\" id=\"1.6.7\"></a>"
   ]
  },
  {
   "cell_type": "markdown",
   "id": "5dbdfaa5-75f0-40dc-9ca5-0d670ca5f560",
   "metadata": {},
   "source": [
    "### 1.6.8 Model Inference <a class=\"anchor\" id=\"1.6.8\"></a>"
   ]
  },
  {
   "cell_type": "markdown",
   "id": "a31d3a76-ee9e-4d78-8d46-a9f4f1be9ff2",
   "metadata": {},
   "source": [
    "## 1.7. Predictive Model Deployment Using Streamlit and Streamlit Community Cloud <a class=\"anchor\" id=\"1.7\"></a>"
   ]
  },
  {
   "cell_type": "markdown",
   "id": "de3395d1-15de-4a20-a1b7-3e14185bd91a",
   "metadata": {},
   "source": [
    "### 1.7.1 Model Prediction Application Code Development <a class=\"anchor\" id=\"1.7.1\"></a>"
   ]
  },
  {
   "cell_type": "markdown",
   "id": "451fd9e4-0290-4d33-bb0f-56058571d128",
   "metadata": {},
   "source": [
    "### 1.7.2 Model Application Programming Interface Code Development <a class=\"anchor\" id=\"1.7.2\"></a>"
   ]
  },
  {
   "cell_type": "markdown",
   "id": "c178d661-27e4-4714-8c4d-86f39f166081",
   "metadata": {},
   "source": [
    "### 1.7.3 User Interface Application Code Development <a class=\"anchor\" id=\"1.7.3\"></a>"
   ]
  },
  {
   "cell_type": "markdown",
   "id": "ff5ffe53-c63e-480d-87ff-486b571cc817",
   "metadata": {},
   "source": [
    "### 1.7.4 Web Application <a class=\"anchor\" id=\"1.7.4\"></a>"
   ]
  },
  {
   "cell_type": "markdown",
   "id": "16f27024-a6c6-46ae-8f1c-956913c2f4ff",
   "metadata": {},
   "source": [
    "# 2. Summary <a class=\"anchor\" id=\"Summary\"></a>"
   ]
  },
  {
   "cell_type": "markdown",
   "id": "1a6bb64a-4fc6-400f-829c-2c35ea91e9ea",
   "metadata": {},
   "source": [
    "# 3. References <a class=\"anchor\" id=\"References\"></a>"
   ]
  },
  {
   "cell_type": "markdown",
   "id": "e00ef7c2-740e-4f3d-87ff-6d6368b610c5",
   "metadata": {},
   "source": [
    "\n",
    "* **[Book]** [Clinical Prediction Models](http://clinicalpredictionmodels.org/) by Ewout Steyerberg\n",
    "* **[Book]** [Survival Analysis: A Self-Learning Text](https://link.springer.com/book/10.1007/978-1-4419-6646-9/) by David Kleinbaum and Mitchel Klein\n",
    "* **[Book]** [Applied Survival Analysis Using R](https://link.springer.com/book/10.1007/978-3-319-31245-3/) by Dirk Moore\n",
    "* **[Book]** [Survival Analysis with Python](https://www.taylorfrancis.com/books/mono/10.1201/9781003255499/survival-analysis-python-avishek-nag) by Avishek Nag\n",
    "* **[Python Library API]** [SciKit-Survival](https://pypi.org/project/scikit-survival/) by SciKit-Survival Team\n",
    "* **[Python Library API]** [SciKit-Learn](https://scikit-learn.org/stable/index.html) by SciKit-Learn Team\n",
    "* **[Python Library API]** [StatsModels](https://www.statsmodels.org/stable/index.html) by StatsModels Team\n",
    "* **[Python Library API]** [SciPy](https://scipy.org/) by SciPy Team\n",
    "* **[Python Library API]** [Lifelines](https://lifelines.readthedocs.io/en/latest/) by Lifelines Team\n",
    "* **[Kaggle Project]** [Applied Reliability, Solutions To Problems](https://www.kaggle.com/code/keenanzhuo/applied-reliability-solutions-to-problems) by Keenan Zhuo (Kaggle)\n",
    "* **[Kaggle Project]** [Survival Models VS ML Models Benchmark - Churn Tel](https://www.kaggle.com/code/caralosal/survival-models-vs-ml-models-benchmark-churn-tel) by Carlos Alonso Salcedo (Kaggle)\n",
    "* **[Kaggle Project]** [Survival Analysis with Cox Model Implementation](https://www.kaggle.com/code/bryanb/survival-analysis-with-cox-model-implementation/notebook) by Bryan Boulé (Kaggle)\n",
    "* **[Kaggle Project]** [Survival Analysis](https://www.kaggle.com/code/gunesevitan/survival-analysis/notebook) by Gunes Evitan (Kaggle)\n",
    "* **[Kaggle Project]** [Survival Analysis of Lung Cancer Patients](https://www.kaggle.com/code/bryanb/survival-analysis-with-cox-model-implementation/notebook) by Sayan Chakraborty (Kaggle)\n",
    "* **[Kaggle Project]** [COVID-19 Cox Survival Regression](https://www.kaggle.com/code/bryanb/survival-analysis-with-cox-model-implementation/notebook) by Ilias Katsabalos (Kaggle)\n",
    "* **[Kaggle Project]** [Liver Cirrhosis Prediction with XGboost & EDA](https://www.kaggle.com/code/arjunbhaybhang/liver-cirrhosis-prediction-with-xgboost-eda) by Arjun Bhaybang (Kaggle)\n",
    "* **[Article]** [Exploring Time-to-Event with Survival Analysis](https://towardsdatascience.com/exploring-time-to-event-with-survival-analysis-8b0a7a33a7be) by Olivia Tanuwidjaja (Towards Data Science)\n",
    "* **[Article]** [The Complete Introduction to Survival Analysis in Python](https://towardsdatascience.com/the-complete-introduction-to-survival-analysis-in-python-7523e17737e6) by Marco Peixeiro (Towards Data Science)\n",
    "* **[Article]** [Survival Analysis Simplified: Explaining and Applying with Python](https://medium.com/@zynp.atlii/survival-analysis-simplified-explaining-and-applying-with-python-7efacf86ba32) by Zeynep Atli (Towards Data Science)\n",
    "* **[Article]** [Survival Analysis in Python (KM Estimate, Cox-PH and AFT Model)](https://medium.com/the-researchers-guide/survival-analysis-in-python-km-estimate-cox-ph-and-aft-model-5533843c5d5d) by Rahul Raoniar (Medium)\n",
    "* **[Article]** [How to Evaluate Survival Analysis Models)](https://towardsdatascience.com/how-to-evaluate-survival-analysis-models-dd67bc10caae) by Nicolo Cosimo Albanese (Towards Data Science)\n",
    "* **[Article]** [Survival Analysis with Python Tutorial — How, What, When, and Why)](https://pub.towardsai.net/survival-analysis-with-python-tutorial-how-what-when-and-why-19a5cfb3c312) by Towards AI Team (Medium)\n",
    "* **[Article]** [Survival Analysis: Predict Time-To-Event With Machine Learning)](https://towardsdatascience.com/survival-analysis-predict-time-to-event-with-machine-learning-part-i-ba52f9ab9a46) by Lina Faik (Medium)\n",
    "* **[Article]** [A Complete Guide To Survival Analysis In Python, Part 1](https://www.kdnuggets.com/2020/07/complete-guide-survival-analysis-python-part1.html) by Pratik Shukla (KDNuggets)\n",
    "* **[Article]** [A Complete Guide To Survival Analysis In Python, Part 2](https://www.kdnuggets.com/2020/07/guide-survival-analysis-python-part-2.html) by Pratik Shukla (KDNuggets)\n",
    "* **[Article]** [A Complete Guide To Survival Analysis In Python, Part 3](https://www.kdnuggets.com/2020/07/guide-survival-analysis-python-part-3.html) by Pratik Shukla (KDNuggets)\n",
    "* **[Article]** [Model Explainability using SHAP (SHapley Additive exPlanations) and LIME (Local Interpretable Model-agnostic Explanations)](https://medium.com/@anshulgoel991/model-exploitability-using-shap-shapley-additive-explanations-and-lime-local-interpretable-cb4f5594fc1a) by Anshul Goel (Medium)\n",
    "* **[Article]** [A Comprehensive Guide into SHAP (SHapley Additive exPlanations) Values](https://www.kdnuggets.com/2020/07/guide-survival-analysis-python-part-3.html) by Brain John Aboze (DeepChecks.Com)\n",
    "* **[Article]** [SHAP - Understanding How This Method for Explainable AI Works](https://safjan.com/how-the-shap-method-for-explainable-ai-works/#google_vignette) by Krystian Safjan (Safjan.Com)\n",
    "* **[Article]** [SHAP: Shapley Additive Explanations](https://towardsdatascience.com/shap-shapley-additive-explanations-5a2a271ed9c3) by Fernando Lopez (Medium)\n",
    "* **[Article]** [Explainable Machine Learning, Game Theory, and Shapley Values: A technical review](https://www.kdnuggets.com/2020/07/guide-survival-analysis-python-part-3.html) by Soufiane Fadel (Statistics Canada)\n",
    "* **[Article]** [SHAP Values Explained Exactly How You Wished Someone Explained to You](https://towardsdatascience.com/shap-explained-the-way-i-wish-someone-explained-it-to-me-ab81cc69ef30) by Samuele Mazzanti (Towards Data Science)\n",
    "* **[Article]** [Explaining Machine Learning Models: A Non-Technical Guide to Interpreting SHAP Analyses](https://www.aidancooper.co.uk/a-non-technical-guide-to-interpreting-shap-analyses/) by Aidan Cooper (AidanCooper.Co.UK)\n",
    "* **[Article]** [Shapley Additive Explanations: Unveiling the Black Box of Machine Learning](https://python.plainenglish.io/shapley-additive-explanations-unveiling-the-black-box-of-machine-learning-477ba01ffa07) by Evertone Gomede (Medium)\n",
    "* **[Article]** [SHAP (SHapley Additive exPlanations)](https://www.nerd-data.com/shap/) by Narut Soontranon (Nerd-Data.Com)\n",
    "* **[Article]** [Survival Analysis](https://quantdev.ssri.psu.edu/resources/survival-analysis) by Jessica Lougheed and Lizbeth Benson (QuantDev.SSRI.PSU.Edu)\n",
    "* **[Article]** [Part 1: How to Format Data for Several Types of Survival Analysis Models](https://quantdev.ssri.psu.edu/tutorials/part-1-how-format-data-several-types-survival-analysis-models) by Jessica Lougheed and Lizbeth Benson (QuantDev.SSRI.PSU.Edu)\n",
    "* **[Article]** [Part 2: Single-Episode Cox Regression Model with Time-Invariant Predictors](https://quantdev.ssri.psu.edu/tutorials/part-2-single-episode-cox-regression-model-time-invariant-predictors) by Jessica Lougheed and Lizbeth Benson (QuantDev.SSRI.PSU.Edu)\n",
    "* **[Article]** [Part 3: Single-Episode Cox Regression Model with Time-Varying Predictors](https://quantdev.ssri.psu.edu/tutorials/part-3-single-episode-cox-regression-model-time-varying-predictors) by Jessica Lougheed and Lizbeth Benson (QuantDev.SSRI.PSU.Edu)\n",
    "* **[Article]** [Part 4: Recurring-Episode Cox Regression Model with Time-Invariant Predictors](https://quantdev.ssri.psu.edu/tutorials/part-4-recurring-episode-cox-regression-model-time-invariant-predictors) by Jessica Lougheed and Lizbeth Benson (QuantDev.SSRI.PSU.Edu)\n",
    "* **[Article]** [Part 5: Recurring-Episode Cox Regression Model with Time-Varying Predictors](https://quantdev.ssri.psu.edu/tutorials/part-5-recurring-episode-cox-regression-model-time-varying-predictors) by Jessica Lougheed and Lizbeth Benson (QuantDev.SSRI.PSU.Edu)\n",
    "* **[Article]** [Parametric Survival Modeling](https://devinincerti.com/2019/06/18/parametric_survival.html) by Devin Incerti (DevinIncerti.Com)\n",
    "* **[Article]** [Survival Analysis Simplified: Explaining and Applying with Python](https://medium.com/@zynp.atlii/survival-analysis-simplified-explaining-and-applying-with-python-7efacf86ba32) by Zeynep Atli (Medium)\n",
    "* **[Article]** [Exploring Time-to-Event with Survival Analysis](https://towardsdatascience.com/exploring-time-to-event-with-survival-analysis-8b0a7a33a7be) by \n",
    "Olivia Tanuwidjaja (Medium)\n",
    "* **[Article]** [Understanding Survival Analysis Models: Bridging the Gap between Parametric and Semiparametric Approaches](https://medium.com/@zynp.atlii/understanding-survival-analysis-models-bridging-the-gap-between-parametric-and-semiparametric-923cdcfc9f05) by Zeynep Atli (Medium)\n",
    "* **[Article]** [Survival Analysis in Python (KM Estimate, Cox-PH and AFT Model)](https://medium.com/the-researchers-guide/survival-analysis-in-python-km-estimate-cox-ph-and-aft-model-5533843c5d5d) by Rahul Raoniar (Medium)\n",
    "* **[Article]** [Survival Modeling — Accelerated Failure Time — XGBoost](https://towardsdatascience.com/survival-modeling-accelerated-failure-time-xgboost-971aaa1ba794) by Avinash Barnwal (Medium)\n",
    "* **[Publication]** [Regression Models and Life Tables](https://rss.onlinelibrary.wiley.com/doi/abs/10.1111/j.2517-6161.1972.tb00899.x) by David Cox (Royal Statistical Society)\n",
    "* **[Publication]** [Covariance Analysis of Censored Survival Data](https://pubmed.ncbi.nlm.nih.gov/4813387/) by Norman Breslow (Biometrics)\n",
    "* **[Publication]** [The Efficiency of Cox’s Likelihood Function for Censored Data](https://www.jstor.org/stable/2286217) by Bradley Efron (Journal of the American Statistical Association)\n",
    "* **[Publication]** [Regularization Paths for Cox’s Proportional Hazards Model via Coordinate Descent](https://doi.org/10.18637/jss.v039.i05) by Noah Simon, Jerome Friedman, Trevor Hastie and Rob Tibshirani (Journal of Statistical Software)\n",
    "* **[Publication]** [Shapley Additive Explanations](https://dl.acm.org/doi/10.5555/1756006.1756007) by Noah Simon, Jerome Friedman, Trevor Hastie and Rob Tibshirani (Journal of Statistical Software) by Erik Strumbelj and Igor Kononenko (The Journal of Machine Learning Research)\n",
    "* **[Publication]** [A Unified Approach to Interpreting Model Predictions](https://proceedings.neurips.cc/paper_files/paper/2017/file/8a20a8621978632d76c43dfd28b67767-Paper.pdf) by Scott Lundberg and Sun-In Lee (Conference on Neural Information Processing Systems)\n",
    "* **[Publication]** [Survival Analysis Part I: Basic Concepts and First Analyses](https://www.ncbi.nlm.nih.gov/pmc/articles/PMC2394262/) by Taane Clark (British Journal of Cancer)\n",
    "* **[Publication]** [Survival Analysis Part II: Multivariate Data Analysis – An Introduction to Concepts and Methods](https://www.ncbi.nlm.nih.gov/pmc/articles/PMC2394368/) by Mike Bradburn (British Journal of Cancer)\n",
    "* **[Publication]** [Survival Analysis Part III: Multivariate Data Analysis – Choosing a Model and Assessing its Adequacy and Fit](https://www.ncbi.nlm.nih.gov/pmc/articles/PMC2376927/) by Mike Bradburn (British Journal of Cancer)\n",
    "* **[Publication]** [Survival Analysis Part IV: Further Concepts and Methods in Survival Analysis](https://www.ncbi.nlm.nih.gov/pmc/articles/PMC2394469/) by Taane Clark (British Journal of Cancer)\n",
    "* **[Publication]** [Marginal Likelihoods Based on Cox's Regression and Life Model](https://www.jstor.org/stable/2334538) by Jack Kalbfleisch and Ross Prentice (Biometrika)\n",
    "* **[Publication]** [Hazard Rate Models with Covariates](https://www.jstor.org/stable/2529934) by Jack Kalbfleisch and Ross Prentice (Biometrics)\n",
    "* **[Publication]** [Linear Regression with Censored Data](https://www.jstor.org/stable/2335161) by Jonathan Buckley and Ian James (Biometrika)\n",
    "* **[Publication]** [A Statistical Distribution Function of Wide Applicability](https://www.semanticscholar.org/paper/A-Statistical-Distribution-Function-of-Wide-Weibull/88c37770028e7ed61180a34d6a837a9a4db3b264) by Waloddi Weibull (Journal of Applied Mechanics)\n",
    "* **[Publication]** [Exponential Survivals with Censoring and Explanatory Variables](https://www.jstor.org/stable/2334539) by Ross Prentice (Biometrika)\n",
    "* **[Publication]** [The Lognormal Distribution, with Special Reference to its Uses in Economics](https://www.semanticscholar.org/paper/The-Lognormal-Distribution%2C-with-Special-Reference-Corlett-Aitchison/1f59c53ff512fa77e7aee5e6d98b1786c2aaf129) by John Aitchison and James Brown (Economics Applied Statistics)\n",
    "* **[Course]** [Survival Analysis in Python](https://app.datacamp.com/learn/courses/survival-analysis-in-python) by Shae Wang (DataCamp)"
   ]
  },
  {
   "cell_type": "code",
   "execution_count": 1,
   "id": "af14bfb0-22ee-4482-8df6-5854be5ca81a",
   "metadata": {},
   "outputs": [
    {
     "data": {
      "text/html": [
       "<style>.rendered_html { font-size: 15px; font-family: 'Trebuchet MS'; }</style>"
      ],
      "text/plain": [
       "<IPython.core.display.HTML object>"
      ]
     },
     "metadata": {},
     "output_type": "display_data"
    }
   ],
   "source": [
    "from IPython.display import display, HTML\n",
    "display(HTML(\"<style>.rendered_html { font-size: 15px; font-family: 'Trebuchet MS'; }</style>\"))"
   ]
  }
 ],
 "metadata": {
  "kernelspec": {
   "display_name": "Python 3 (ipykernel)",
   "language": "python",
   "name": "python3"
  },
  "language_info": {
   "codemirror_mode": {
    "name": "ipython",
    "version": 3
   },
   "file_extension": ".py",
   "mimetype": "text/x-python",
   "name": "python",
   "nbconvert_exporter": "python",
   "pygments_lexer": "ipython3",
   "version": "3.12.5"
  }
 },
 "nbformat": 4,
 "nbformat_minor": 5
}
